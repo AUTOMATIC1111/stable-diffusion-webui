{
 "cells": [
  {
   "cell_type": "code",
   "execution_count": 8,
   "metadata": {},
   "outputs": [
    {
     "name": "stdout",
     "output_type": "stream",
     "text": [
      "nacos heartbeat\n",
      "nacos heartbeat\n",
      "nacos heartbeat\n"
     ]
    }
   ],
   "source": [
    "import nacos\n",
    "import time\n",
    "import asyncio\n",
    "\n",
    "server_address = 'http://120.78.215.48:8848'\n",
    "namespace = '3bcb0b1d-1c2b-4069-97df-9612dac5005c'\n",
    "access_key = ''  # 可选，访问密钥\n",
    "secret_key = ''  # 可选，访问密钥\n",
    "client = nacos.NacosClient(server_addresses=server_address, namespace=namespace, ak=access_key, sk=secret_key)\n",
    "service_name = 'sd-service'  # 注册的服务名\n",
    "ip = '127.0.0.1'  # 本机IP地址\n",
    "port = 7861  # 服务端口号\n",
    "weight = 1.0  # 权重，默认为1.0\n",
    "cluster_name = 'dev'  # 可选，集群名，默认为'default'\n",
    "metadata = {}  # 可选，元数据，用于自定义信息\n",
    "nacos_conn_status = client.add_naming_instance(service_name=service_name, ip=ip, port=port, weight=weight, healthy=True, enable=True)\n",
    "# for i in range(2):\n",
    "#     client.send_heartbeat(service_name=service_name, ip=ip, port=port, weight=weight)\n",
    "#     print('nacos heartbeat')\n",
    "#     time.sleep(10)\n",
    "\n",
    "async def nacos_heartbeat(n):\n",
    "    while n > 0:\n",
    "        await asyncio.sleep(10.0)\n",
    "        client.send_heartbeat(service_name=service_name, ip=ip, port=port, weight=weight)\n",
    "        print('nacos heartbeat')\n",
    "        n-=1\n",
    "await nacos_heartbeat(3)\n"
   ]
  },
  {
   "cell_type": "code",
   "execution_count": 6,
   "metadata": {},
   "outputs": [
    {
     "name": "stdout",
     "output_type": "stream",
     "text": [
      "10.200.28.251\n"
     ]
    }
   ],
   "source": [
    "import socket\n",
    "#获取本机IP地址\n",
    "def get_local_ip():\n",
    "    # s = socket.socket(socket.AF_INET, socket.SOCK_DGRAM)\n",
    "    # s.connect(('8.8.8.8', 80))\n",
    "    # ip = s.getsockname()[0]\n",
    "    # s.close()\n",
    "    ip = socket.gethostbyname(socket.gethostname())\n",
    "    return ip\n",
    "print(get_local_ip())"
   ]
  }
 ],
 "metadata": {
  "kernelspec": {
   "display_name": "venv",
   "language": "python",
   "name": "python3"
  },
  "language_info": {
   "codemirror_mode": {
    "name": "ipython",
    "version": 3
   },
   "file_extension": ".py",
   "mimetype": "text/x-python",
   "name": "python",
   "nbconvert_exporter": "python",
   "pygments_lexer": "ipython3",
   "version": "3.10.6"
  }
 },
 "nbformat": 4,
 "nbformat_minor": 2
}
