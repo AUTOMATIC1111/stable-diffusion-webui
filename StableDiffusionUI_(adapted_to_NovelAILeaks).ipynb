{
  "cells": [
    {
      "cell_type": "markdown",
      "metadata": {
        "id": "view-in-github",
        "colab_type": "text"
      },
      "source": [
        "<a href=\"https://colab.research.google.com/github/PencilMario/stable-diffusion-webui/blob/master/StableDiffusionUI_(adapted_to_NovelAILeaks).ipynb\" target=\"_parent\"><img src=\"https://colab.research.google.com/assets/colab-badge.svg\" alt=\"Open In Colab\"/></a>"
      ]
    },
    {
      "cell_type": "markdown",
      "metadata": {
        "id": "Mos67UDZv5Fv"
      },
      "source": [
        "# StableDiffusionWebui 训练自动保存版\n",
        "基于笔记本https://github.com/JingShing/novelai-colab-ver/blob/main/webui-ver/StableDiffusionUI_(adapted_to_NovelAILeaks).ipynb 修改而成\n",
        "\n",
        "主要在跑训练时自动将训练结果保存至google drive, 如果你真的想用这个跑图也是可以的"
      ]
    },
    {
      "cell_type": "markdown",
      "source": [
        "#预处理"
      ],
      "metadata": {
        "id": "ji66_WeKZOFz"
      }
    },
    {
      "cell_type": "code",
      "execution_count": 14,
      "metadata": {
        "id": "d9FhpCxyJkGp",
        "cellView": "form"
      },
      "outputs": [],
      "source": [
        "#@title 工具函数\n",
        "#@markdown 在运行以下指令块前请先运行这个\n",
        "import subprocess\n",
        "def run_command_by_line(command_args):\n",
        "    def print_pipe(raw):\n",
        "        return print(raw.decode(\"utf-8\"), end='')\n",
        "    with subprocess.Popen(command_args, stdout=subprocess.PIPE, stderr=subprocess.PIPE) as process:\n",
        "      while process.poll() is None:\n",
        "        print_pipe(process.stdout.readline())\n",
        "      [print_pipe(line) for line in process.stderr.readlines()]\n",
        "    return\n",
        "\n",
        "def check_select(str, instr):\n",
        "  strs=\"qwertyuiopasdfghjklzxcvbnm\"\n",
        "  str=str.lower()\n",
        "  result=[]\n",
        "  for i in strs:\n",
        "    if str.find(i) != -1:\n",
        "      result.append(i)\n",
        "  for a in result:\n",
        "    if a==instr:\n",
        "      return True\n",
        "  return False\n",
        "\n"
      ]
    },
    {
      "cell_type": "code",
      "execution_count": null,
      "metadata": {
        "id": "sneWxmf17bJe",
        "cellView": "form"
      },
      "outputs": [],
      "source": [
        "#@title 挂载Google Drive\n",
        "#@markdown **警告：可能会导致Google扫描你的网盘，建议在干净的网盘账号上使用，以防万一:)**\n",
        "#@markdown > 如果你不需要训练风格模型，即只用来跑图，那么不需要挂载谷歌网盘，直接运行下一个语句块即可。\n",
        "\n",
        "#@markdown 训练时的模型和预览图将被保存到谷歌网盘的`StableDiffusionTraining`文件夹\n",
        "\n",
        "#@markdown *小提示：colab的根目录是/content*  \n",
        "#@markdown *如：sample_data在程序内的目录是/content/sample_data*\n",
        "from google.colab import drive\n",
        "drive.mount(\"/content/drive\", force_remount=True)"
      ]
    },
    {
      "cell_type": "code",
      "execution_count": null,
      "metadata": {
        "id": "sBbcB4vwj_jm",
        "cellView": "form"
      },
      "outputs": [],
      "source": [
        "#@title clone webui仓库\n",
        "%cd /content/\n",
        "!git clone https://github.com/PencilMario/stable-diffusion-webui\n",
        "%cd stable-diffusion-webui"
      ]
    },
    {
      "cell_type": "code",
      "execution_count": null,
      "metadata": {
        "id": "ZzRNMT42Gw_p",
        "cellView": "form"
      },
      "outputs": [],
      "source": [
        "#@title 从NovelAlLeaks下载模型\n",
        "#@markdown 输入指定的字符将会下载对应模型\n",
        "#@markdown\n",
        "#@markdown a - *7G animefull-final-latest （可能不工作)*\n",
        "#@markdown \n",
        "#@markdown b - *4G animefull-final-pruned*\n",
        "#@markdown\n",
        "#@markdown c - *4G animefull-final-pruned （备用链接 | 推荐）*\n",
        "#@markdown\n",
        "#@markdown d - *hpyernetworks 全局风格模型文件*\n",
        "#@markdown\n",
        "\n",
        "#@markdown > 如果什么都不填，相当于填入c, ab从谷歌网盘下载，当人数过多时可能无法下载 \n",
        "\n",
        "下载模型文件 = \"cd\" #@param {type:\"string\"}\n",
        "为每个模型下载权重文件 = True #@param {type:\"boolean\"}\n",
        "!mkdir -p /content/stable-diffusion-webui/models/Stable-diffusion /content/stable-diffusion-webui/models/hypernetworks\n",
        "%cd /content/stable-diffusion-webui/models/Stable-diffusion/\n",
        "if check_select(下载模型文件, 'a'):\n",
        "  !gdown 17WWd6KEsBj7D_0TyGp8aXHQDlchYVs1a -O /content/stable-diffusion-webui/models/Stable-diffusion/model.ckpt\n",
        "  if 为每个模型下载权重文件:\n",
        "    !curl -Lo model.vae.pt https://cloudflare-ipfs.com/ipfs/bafybeiccldswdd3wvg57jhclcq53lvsc6gizasiblwayvhlv6eq4wow7wu/animevae.pt \n",
        "if check_select(下载模型文件, 'b'):\n",
        "  !gdown 1d3f2fvN2gLRocBahZrXe_v1EEHuqpUzT -O /content/stable-diffusion-webui/models/Stable-diffusion/model.ckpt\n",
        "  if 为每个模型下载权重文件:\n",
        "    !curl -Lo model.vae.pt https://cloudflare-ipfs.com/ipfs/bafybeiccldswdd3wvg57jhclcq53lvsc6gizasiblwayvhlv6eq4wow7wu/animevae.pt \n",
        "\n",
        "if check_select(下载模型文件, 'c'):\n",
        "  !curl -Lo model.ckpt https://cloudflare-ipfs.com/ipfs/bafybeicpamreyp2bsocyk3hpxr7ixb2g2rnrequub3j2ahrkdxbvfbvjc4/model.ckpt\n",
        "  if 为每个模型下载权重文件:\n",
        "    !curl -Lo model.vae.pt https://cloudflare-ipfs.com/ipfs/bafybeiccldswdd3wvg57jhclcq53lvsc6gizasiblwayvhlv6eq4wow7wu/animevae.pt \n",
        "\n",
        "if check_select(下载模型文件, 'd'):\n",
        "  !curl -L https://cloudflare-ipfs.com/ipfs/bafybeiduanx2b3mcvxlwr66igcwnpfmk3nc3qgxlpwh6oq6m6pxii3f77e/_modules.tar | tar x -C /content/stable-diffusion-webui/models/hypernetworks\n",
        "\n",
        "if check_select(下载模型文件, 'e'):\n",
        "  !curl -L https://cloudflare-ipfs.com/ipfs/bafybeie3hdjchxs5tz4n75bos53nhcklslguxchdurc2ynrzcfv2kwyklu/embeddings.tar | tar x -C /content/stable-diffusion-webui/embeddings\n",
        "\n",
        "if 下载模型文件 is None:\n",
        "  run_command_by_line(['curl','-Lo','model.ckpt','https://cloudflare-ipfs.com/ipfs/bafybeicpamreyp2bsocyk3hpxr7ixb2g2rnrequub3j2ahrkdxbvfbvjc4/model.ckpt'])\n",
        "  if 为每个模型下载权重文件:\n",
        "    !curl -Lo model.vae.pt https://cloudflare-ipfs.com/ipfs/bafybeiccldswdd3wvg57jhclcq53lvsc6gizasiblwayvhlv6eq4wow7wu/animevae.pt \n",
        "print(\"下载完成\")"
      ]
    },
    {
      "cell_type": "markdown",
      "metadata": {
        "id": "xt8lbdmC04ox"
      },
      "source": [
        "#运行sd-webui\n"
      ]
    },
    {
      "cell_type": "code",
      "execution_count": null,
      "metadata": {
        "id": "R-xAdMA5wxXd",
        "cellView": "form"
      },
      "outputs": [],
      "source": [
        "#@markdown 启动webui。你将得到一个***.gradio.app的链接\n",
        "\n",
        "#@markdown 启动项参数：\n",
        "\n",
        "#@markdown `--share` - 创建在线gradio.app链接\n",
        "#@markdown \n",
        "#@markdown `--gradio-debug` - 打印输出到控制台\n",
        "#@markdown \n",
        "#@markdown `--gradio-auth me:qwerty` - 登录验证：用户名me，密码qwerty\n",
        "#@markdown \n",
        "#@markdown `--deepdanbooru` - 支持使用deepdanbooru进行数据集预处理\n",
        "%cd /content/stable-diffusion-webui\n",
        "CMD = \"COMMANDLINE_ARGS=\"\n",
        "REQFILE=\"REQS_FILE=\"\n",
        "#@markdown ----------\n",
        "启动项 = \"--share --gradio-debug --deepdanbooru\" #@param{type:\"string\"}\n",
        "\n",
        "依赖文件 = \"requirements.txt\" #@param {type:\"string\"}\n",
        "RUN = \"python launch.py\"\n",
        "run_command_by_line(['python', 'launch.py', CMD+启动项, REQFILE+依赖文件 ])\n",
        "#!COMMANDLINE_ARGS=\"--share --gradio-debug --deepdanbooru\" REQS_FILE=\"requirements.txt\" python launch.py"
      ]
    },
    {
      "cell_type": "markdown",
      "metadata": {
        "id": "wOWwX9eVzrgf"
      },
      "source": [
        "#工具\n",
        "建议挂载网盘后使用"
      ]
    },
    {
      "cell_type": "code",
      "execution_count": null,
      "metadata": {
        "id": "-3vrxvXy8uC7",
        "cellView": "form"
      },
      "outputs": [],
      "source": [
        "#@title 解压文件\n",
        "#@markdown .zip文件路径  \n",
        "filename = \"/content/drive/MyDrive/sample.zip\" #@param\n",
        "#@markdown 解压至文件夹\n",
        "outpath = \"/content/extract_files\" #@param\n",
        "\n",
        "import os\n",
        "os.makedirs(outpath,exist_ok=True)\n",
        "#@markdown ~~没成功就再试一遍~~\n",
        "run_command_by_line([\"7z\", 'x', filename, \"-o\"+outpath if outpath[-1]!=\"/\" else \"-o\"+outpath+\"/\"])"
      ]
    },
    {
      "cell_type": "code",
      "execution_count": null,
      "metadata": {
        "cellView": "form",
        "id": "aNhJZnb63LpR"
      },
      "outputs": [],
      "source": [
        "#@title 更新sd(用于测试)\n",
        "%cd /content/stable-diffusion-webui\n",
        "!git pull"
      ]
    },
    {
      "cell_type": "code",
      "source": [
        "#@title 删除sd（用于测试）\n",
        "import shutil \n",
        "shutil.rmtree(\"/content/stable-diffusion-webui\")"
      ],
      "metadata": {
        "cellView": "form",
        "id": "m8zAQ8QjcsBk"
      },
      "execution_count": 24,
      "outputs": []
    },
    {
      "cell_type": "markdown",
      "metadata": {
        "id": "T3957x2AY7iP"
      },
      "source": [
        "#杂项\n",
        "\n",
        "*以下语句块只有在**#运行sd-webui**结束后才建议使用*"
      ]
    },
    {
      "cell_type": "code",
      "execution_count": null,
      "metadata": {
        "cellView": "form",
        "id": "TmRqNyiAZCHu"
      },
      "outputs": [],
      "source": [
        "#@title 保存生成的图片\n",
        "\n",
        "!zip -r /content/stable-diffusion-webui /content/stable-diffusion-webui/outputs "
      ]
    },
    {
      "cell_type": "code",
      "execution_count": null,
      "metadata": {
        "cellView": "form",
        "id": "-N0lnu-TZOTW"
      },
      "outputs": [],
      "source": [
        "#@title 保存图片到谷歌drive\n",
        "#@markdown **警告：可能会导致Google扫描你的网盘，建议在干净的网盘账号上使用，以防万一:)**\n",
        "from google.colab import drive # type: ignore\n",
        "\n",
        "try:\n",
        "   drive_path = \"/content/drive\"\n",
        "   drive.mount(drive_path,force_remount=False)\n",
        "except:\n",
        "   print(\"...error mounting drive or with drive path variables\")\n",
        "\n",
        "!cp -r \"/content/stable-diffusion-webui/outputs\" \"/content/drive/MyDrive\""
      ]
    }
  ],
  "metadata": {
    "colab": {
      "collapsed_sections": [
        "xt8lbdmC04ox",
        "wOWwX9eVzrgf",
        "T3957x2AY7iP"
      ],
      "provenance": [],
      "include_colab_link": true
    },
    "gpuClass": "standard",
    "kernelspec": {
      "display_name": "Python 3",
      "name": "python3"
    },
    "language_info": {
      "name": "python"
    },
    "accelerator": "GPU"
  },
  "nbformat": 4,
  "nbformat_minor": 0
}