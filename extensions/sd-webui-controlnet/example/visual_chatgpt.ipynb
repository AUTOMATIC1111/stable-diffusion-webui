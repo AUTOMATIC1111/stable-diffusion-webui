{
 "cells": [
  {
   "cell_type": "code",
   "execution_count": null,
   "metadata": {},
   "outputs": [],
   "source": [
    "# Run WebUI in API mode\n",
    "nohup python launch.py --api --xformers &\n",
    "\n",
    "# Wait until webui fully startup\n",
    "tail -f nohup.out"
   ]
  },
  {
   "cell_type": "code",
   "execution_count": null,
   "metadata": {},
   "outputs": [],
   "source": [
    "# Install/Upgrade transformers\n",
    "pip install -U transformers\n",
    "\n",
    "# Install deps\n",
    "pip install langchain==0.0.101 openai \n",
    "\n",
    "# Run exmaple\n",
    "python example/chatgpt.py"
   ]
  }
 ],
 "metadata": {
  "kernelspec": {
   "display_name": "pynb",
   "language": "python",
   "name": "python3"
  },
  "language_info": {
   "codemirror_mode": {
    "name": "ipython",
    "version": 3
   },
   "file_extension": ".py",
   "mimetype": "text/x-python",
   "name": "python",
   "nbconvert_exporter": "python",
   "pygments_lexer": "ipython3",
   "version": "3.10.9"
  },
  "orig_nbformat": 4,
  "vscode": {
   "interpreter": {
    "hash": "d73345514d8c18d9a1da7351d222dbd2834c7f4a09e728a0d1f4c4580fbec206"
   }
  }
 },
 "nbformat": 4,
 "nbformat_minor": 2
}
