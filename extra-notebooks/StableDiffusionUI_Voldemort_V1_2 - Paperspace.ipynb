{
 "cells": [
  {
   "cell_type": "markdown",
   "metadata": {
    "id": "gfKvWAVnz8OB"
   },
   "source": [
    "Adapted from: https://colab.research.google.com/drive/1AfAmwLMd_Vx33O9IwY2TmO9wKZ8ABRRa"
   ]
  },
  {
   "cell_type": "code",
   "execution_count": null,
   "metadata": {
    "id": "p8FI40sFj9tU"
   },
   "outputs": [],
   "source": [
    "import os\n",
    "os.kill(os.getpid(), 9) # This will crash Notebook (required, everything will still be intact so dont worry)"
   ]
  },
  {
   "cell_type": "markdown",
   "metadata": {
    "id": "OHCtG9MT0jLq"
   },
   "source": [
    "Clone webui repository"
   ]
  },
  {
   "cell_type": "code",
   "execution_count": null,
   "metadata": {
    "colab": {
     "base_uri": "https://localhost:8080/"
    },
    "id": "sBbcB4vwj_jm",
    "outputId": "34274d9b-4a68-4e5b-a0c7-3bdefbe46f4a"
   },
   "outputs": [
    {
     "name": "stdout",
     "output_type": "stream",
     "text": [
      "Cloning into 'stable-diffusion-webui'...\n",
      "remote: Enumerating objects: 3657, done.\u001b[K\n",
      "remote: Counting objects: 100% (354/354), done.\u001b[K\n",
      "remote: Compressing objects: 100% (191/191), done.\u001b[K\n",
      "remote: Total 3657 (delta 243), reused 234 (delta 163), pack-reused 3303\u001b[K\n",
      "Receiving objects: 100% (3657/3657), 20.07 MiB | 12.50 MiB/s, done.\n",
      "Resolving deltas: 100% (2538/2538), done.\n",
      "/content/stable-diffusion-webui\n"
     ]
    }
   ],
   "source": [
    "!git clone https://github.com/AUTOMATIC1111/stable-diffusion-webui\n",
    "%cd stable-diffusion-webui"
   ]
  },
  {
   "cell_type": "markdown",
   "metadata": {
    "id": "F0EINk5M0s-w"
   },
   "source": [
    "Download the model from huggingface. Please add your token in the \"user_token\" area below. See link at the start for different ways."
   ]
  },
  {
   "cell_type": "code",
   "execution_count": null,
   "metadata": {
    "colab": {
     "base_uri": "https://localhost:8080/"
    },
    "execution": {
     "iopub.execute_input": "2022-10-14T03:12:06.964642Z",
     "iopub.status.busy": "2022-10-14T03:12:06.964147Z"
    },
    "id": "CT_J9L7oqLxG",
    "outputId": "a651bfa1-5cc7-4c6f-8469-681cc41dd045"
   },
   "outputs": [
    {
     "name": "stdout",
     "output_type": "stream",
     "text": [
      "--2022-10-14 03:12:07--  https://huggingface.co/IShallRiseAgain/StudioGhibli/resolve/main/StudioGhibliV4.ckpt\n",
      "Resolving huggingface.co (huggingface.co)... 54.173.5.192, 52.5.54.249, 54.210.225.113, ...\n",
      "Connecting to huggingface.co (huggingface.co)|54.173.5.192|:443... connected.\n",
      "HTTP request sent, awaiting response... 302 Found\n",
      "Location: https://cdn-lfs.huggingface.co/repos/29/4d/294d9177972d9da4affa309b9224dad3883988e547b2870b4d9a2be9fed0cc64/3bef06d71c26943a2a71183c279c30a017aaf38e108bc65751f230601cf0db51?response-content-disposition=attachment%3B%20filename%3D%22StudioGhibliV4.ckpt%22&Expires=1665975285&Policy=eyJTdGF0ZW1lbnQiOlt7IlJlc291cmNlIjoiaHR0cHM6Ly9jZG4tbGZzLmh1Z2dpbmdmYWNlLmNvL3JlcG9zLzI5LzRkLzI5NGQ5MTc3OTcyZDlkYTRhZmZhMzA5YjkyMjRkYWQzODgzOTg4ZTU0N2IyODcwYjRkOWEyYmU5ZmVkMGNjNjQvM2JlZjA2ZDcxYzI2OTQzYTJhNzExODNjMjc5YzMwYTAxN2FhZjM4ZTEwOGJjNjU3NTFmMjMwNjAxY2YwZGI1MT9yZXNwb25zZS1jb250ZW50LWRpc3Bvc2l0aW9uPWF0dGFjaG1lbnQlM0IlMjBmaWxlbmFtZSUzRCUyMlN0dWRpb0doaWJsaVY0LmNrcHQlMjIiLCJDb25kaXRpb24iOnsiRGF0ZUxlc3NUaGFuIjp7IkFXUzpFcG9jaFRpbWUiOjE2NjU5NzUyODV9fX1dfQ__&Signature=eoQaFVLvrE1voTfIbxL7qviQEZMt7YdqPK0GW7Hnj5lewFiwKrVhtAW3m0gRfWO5TjwdMFGguvKohNCmlrGaY9R5GyClAmbKKQ8J84IjPcmco-iKZYZSKzxOHMf83n7zJEGSc48Uadw0P6gnifMNxqhlQOBLDPYVieYxtV3Lvvx0wVO27Q5EXKdkGxHFYTCjD6lRukmRWH59r8rScl6luXJZ7zy6BX2K8FK~gtIZvP3VONXc757L7XjbNKHURWpIvL8eQkd0qHmmTvXOJMXAQln9Tfs12WbJ~X-pQtOnL8xai~-A6Y3n0jS5-zGEkFn39WdF8jJyQejrXOR6ou-3kg__&Key-Pair-Id=KVTP0A1DKRTAX [following]\n",
      "--2022-10-14 03:12:07--  https://cdn-lfs.huggingface.co/repos/29/4d/294d9177972d9da4affa309b9224dad3883988e547b2870b4d9a2be9fed0cc64/3bef06d71c26943a2a71183c279c30a017aaf38e108bc65751f230601cf0db51?response-content-disposition=attachment%3B%20filename%3D%22StudioGhibliV4.ckpt%22&Expires=1665975285&Policy=eyJTdGF0ZW1lbnQiOlt7IlJlc291cmNlIjoiaHR0cHM6Ly9jZG4tbGZzLmh1Z2dpbmdmYWNlLmNvL3JlcG9zLzI5LzRkLzI5NGQ5MTc3OTcyZDlkYTRhZmZhMzA5YjkyMjRkYWQzODgzOTg4ZTU0N2IyODcwYjRkOWEyYmU5ZmVkMGNjNjQvM2JlZjA2ZDcxYzI2OTQzYTJhNzExODNjMjc5YzMwYTAxN2FhZjM4ZTEwOGJjNjU3NTFmMjMwNjAxY2YwZGI1MT9yZXNwb25zZS1jb250ZW50LWRpc3Bvc2l0aW9uPWF0dGFjaG1lbnQlM0IlMjBmaWxlbmFtZSUzRCUyMlN0dWRpb0doaWJsaVY0LmNrcHQlMjIiLCJDb25kaXRpb24iOnsiRGF0ZUxlc3NUaGFuIjp7IkFXUzpFcG9jaFRpbWUiOjE2NjU5NzUyODV9fX1dfQ__&Signature=eoQaFVLvrE1voTfIbxL7qviQEZMt7YdqPK0GW7Hnj5lewFiwKrVhtAW3m0gRfWO5TjwdMFGguvKohNCmlrGaY9R5GyClAmbKKQ8J84IjPcmco-iKZYZSKzxOHMf83n7zJEGSc48Uadw0P6gnifMNxqhlQOBLDPYVieYxtV3Lvvx0wVO27Q5EXKdkGxHFYTCjD6lRukmRWH59r8rScl6luXJZ7zy6BX2K8FK~gtIZvP3VONXc757L7XjbNKHURWpIvL8eQkd0qHmmTvXOJMXAQln9Tfs12WbJ~X-pQtOnL8xai~-A6Y3n0jS5-zGEkFn39WdF8jJyQejrXOR6ou-3kg__&Key-Pair-Id=KVTP0A1DKRTAX\n",
      "Resolving cdn-lfs.huggingface.co (cdn-lfs.huggingface.co)... 54.230.163.55, 54.230.163.42, 54.230.163.29, ...\n",
      "Connecting to cdn-lfs.huggingface.co (cdn-lfs.huggingface.co)|54.230.163.55|:443... connected.\n",
      "HTTP request sent, awaiting response... 200 OK\n",
      "Length: 2132903713 (2.0G) [binary/octet-stream]\n",
      "Saving to: ‘/notebooks/stable-diffusion-webui/models/Stable-diffusion/StudioGhibliV4.ckpt’\n",
      "\n",
      "ion-webui/models/St   2%[                    ]  41.15M  6.22MB/s    eta 5m 27s "
     ]
    }
   ],
   "source": [
    "#@title Normal 1.4 model\n",
    "# get a token from https://huggingface.co/settings/tokens\n",
    "user_token = \"\"\n",
    "user_header = f\"\\\"Authorization: Bearer {user_token}\\\"\"\n",
    "#!wget --header={user_header} https://huggingface.co/jinofcoolnes/VImodel/resolve/main/vimod.ckpt -O /notebooks/stable-diffusion-webui/models/Stable-diffusion/vimod.ckpt\n",
    "\n",
    "# Other models to play with/\n",
    "#!wget --header={user_header} https://huggingface.co/IShallRiseAgain/StudioGhibli/resolve/main/StudioGhibliV4.ckpt -O /notebooks/stable-diffusion-webui/models/Stable-diffusion/StudioGhibliV4.ckpt"
   ]
  },
  {
   "cell_type": "markdown",
   "metadata": {},
   "source": [
    "Below, I've included links to download various models to experiment with.\n",
    "Simply uncomment the \"wget\" line in the cell below for each you want. Then, run the cell to download them.\n",
    "If the GUI is already running, please restart it."
   ]
  },
  {
   "cell_type": "code",
   "execution_count": null,
   "metadata": {},
   "outputs": [],
   "source": [
    "# 1. StudioGhibliV4 Model. Use prompt: studio_ghibli_anime_style style\n",
    "#!wget --header={user_header} https://huggingface.co/IShallRiseAgain/StudioGhibli/resolve/main/StudioGhibliV4.ckpt -O /notebooks/stable-diffusion-webui/models/Stable-diffusion/StudioGhibliV4.ckpt"
   ]
  },
  {
   "cell_type": "markdown",
   "metadata": {
    "id": "v2kY0Z05DwIN"
   },
   "source": [
    "Voldy doesn't explian what this does but it appears to replace the prior dependencies section, saving a few lines lmao "
   ]
  },
  {
   "cell_type": "code",
   "execution_count": null,
   "metadata": {
    "colab": {
     "base_uri": "https://localhost:8080/"
    },
    "id": "IB19TzabDtYF",
    "outputId": "137244dd-9be3-4692-e095-b1ada90022d5"
   },
   "outputs": [
    {
     "name": "stdout",
     "output_type": "stream",
     "text": [
      "Python 3.7.14 (default, Sep  8 2022, 00:06:44) \n",
      "[GCC 7.5.0]\n",
      "Commit hash: a112168d2814d691936a7fb1d4cde5acb8440679\n",
      "Installing gfpgan\n",
      "Cloning Stable Diffusion into repositories/stable-diffusion...\n",
      "Cloning Taming Transformers into repositories/taming-transformers...\n",
      "Cloning K-diffusion into repositories/k-diffusion...\n",
      "Cloning CodeFormer into repositories/CodeFormer...\n",
      "Cloning BLIP into repositories/BLIP...\n",
      "Cloning LDSR into repositories/latent-diffusion...\n",
      "Installing requirements for CodeFormer\n",
      "Installing requirements for Web UI\n",
      "Exiting because of --exit argument\n"
     ]
    }
   ],
   "source": [
    "!COMMANDLINE_ARGS=\"--exit\" REQS_FILE=\"requirements.txt\" python launch.py"
   ]
  },
  {
   "cell_type": "markdown",
   "metadata": {},
   "source": [
    "Install Xformers Wheel and make sure you have the right PyTorch version.\n",
    "This helps speed up image generation."
   ]
  },
  {
   "cell_type": "code",
   "execution_count": null,
   "metadata": {},
   "outputs": [],
   "source": [
    "!pip install https://raw.githubusercontent.com/swcrazyfan/fast-stable-diffusion/main/precompiled/Non-Colab/Paperspace/A4000/xformers-0.0.14.dev0-cp39-cp39-linux_x86_64.whl\n",
    "!pip3 install --upgrade --force-reinstall torch torchvision torchaudio --extra-index-url https://download.pytorch.org/whl/cu116"
   ]
  },
  {
   "cell_type": "markdown",
   "metadata": {
    "id": "S8nvm5f6AfaL"
   },
   "source": [
    "Change into Web UI directory and download updates"
   ]
  },
  {
   "cell_type": "code",
   "execution_count": 1,
   "metadata": {
    "colab": {
     "base_uri": "https://localhost:8080/"
    },
    "execution": {
     "iopub.execute_input": "2022-10-14T03:23:35.188218Z",
     "iopub.status.busy": "2022-10-14T03:23:35.187908Z",
     "iopub.status.idle": "2022-10-14T03:23:36.580430Z",
     "shell.execute_reply": "2022-10-14T03:23:36.579621Z",
     "shell.execute_reply.started": "2022-10-14T03:23:35.188161Z"
    },
    "id": "I1j4j2NfAQye",
    "outputId": "dbc529a3-3359-40b5-fa5f-593d898475b6"
   },
   "outputs": [
    {
     "name": "stdout",
     "output_type": "stream",
     "text": [
      "/notebooks/stable-diffusion-webui\n",
      "Already up to date.\n"
     ]
    }
   ],
   "source": [
    "%cd stable-diffusion-webui\n",
    "!git pull"
   ]
  },
  {
   "cell_type": "markdown",
   "metadata": {
    "id": "xt8lbdmC04ox"
   },
   "source": [
    "Launch web ui. You will get a link to nnn.gradio.app, follow it.\n",
    "\n",
    "Commandline arguments are:\n",
    "  - `--share` - create online gradio.app link\n",
    "  - `--gradio-debug` - print outputs to console\n",
    "  - `--gradio-auth me:qwerty` - add authentication to gradio: username me, password qwerty\n",
    "  - `--xformers` - enables Xformers support to speed up generation (Must install Xformers Wheel above.)"
   ]
  },
  {
   "cell_type": "code",
   "execution_count": null,
   "metadata": {
    "colab": {
     "base_uri": "https://localhost:8080/"
    },
    "execution": {
     "iopub.execute_input": "2022-10-14T03:23:43.018239Z",
     "iopub.status.busy": "2022-10-14T03:23:43.017490Z"
    },
    "id": "R-xAdMA5wxXd",
    "outputId": "2ba0177d-2f99-486a-d981-c9c66515cac2"
   },
   "outputs": [
    {
     "name": "stdout",
     "output_type": "stream",
     "text": [
      "Python 3.9.13 (main, May 23 2022, 22:01:06) \n",
      "[GCC 9.4.0]\n",
      "Commit hash: 08b3f7aef15f74f4d2254b1274dd66fcc7940348\n",
      "Installing gfpgan\n",
      "Installing clip\n",
      "Cloning K-diffusion into repositories/k-diffusion...\n",
      "Fetching updates for CodeFormer...\n",
      "Checking out commint for CodeFormer with hash: c5b4593074ba6214284d6acd5f1719b6c5d739af...\n",
      "Fetching updates for BLIP...\n",
      "Checking out commint for BLIP with hash: 48211a1594f1321b00f14c9f7a5b4813144b2fb9...\n",
      "Installing requirements for CodeFormer\n",
      "Installing requirements for Web UI\n",
      "Launching Web UI with arguments: --share --gradio-debug --gradio-auth me:qwerty --xformers\n",
      "LatentDiffusion: Running in eps-prediction mode\n",
      "DiffusionWrapper has 859.52 M params.\n",
      "making attention of type 'vanilla' with 512 in_channels\n",
      "Working with z of shape (1, 4, 32, 32) = 4096 dimensions.\n",
      "making attention of type 'vanilla' with 512 in_channels\n",
      "Downloading: 100%|███████████████████████████| 939k/939k [00:00<00:00, 11.6MB/s]\n",
      "Downloading: 100%|███████████████████████████| 512k/512k [00:00<00:00, 9.87MB/s]\n",
      "Downloading: 100%|██████████████████████████████| 389/389 [00:00<00:00, 718kB/s]\n",
      "Downloading: 100%|█████████████████████████████| 905/905 [00:00<00:00, 1.34MB/s]\n",
      "Downloading: 100%|█████████████████████████| 4.41k/4.41k [00:00<00:00, 5.70MB/s]\n",
      "Downloading: 100%|█████████████████████████| 1.59G/1.59G [00:17<00:00, 97.6MB/s]\n",
      "Loading weights [a2a802b2] from /notebooks/stable-diffusion-webui/models/Stable-diffusion/yufeimiao-v2-2000.ckpt\n",
      "Applying xformers cross attention optimization.\n",
      "Model loaded.\n",
      "Loaded a total of 1 textual inversion embeddings.\n",
      "Running on local URL:  http://127.0.0.1:7860\n",
      "Running on public URL: https://26668.gradio.app\n",
      "\n",
      "This share link expires in 72 hours. For free permanent hosting, check out Spaces: https://huggingface.co/spaces\n"
     ]
    }
   ],
   "source": [
    "!COMMANDLINE_ARGS=\"--share --gradio-debug --gradio-auth me:qwerty --xformers\" REQS_FILE=\"requirements.txt\" python launch.py"
   ]
  },
  {
   "cell_type": "markdown",
   "metadata": {
    "id": "9qrpRUJpno7L"
   },
   "source": [
    "commands for ***after*** you have gotten done with a session\n",
    "============================================================================"
   ]
  },
  {
   "cell_type": "markdown",
   "metadata": {
    "id": "zB-L8JpElKp-"
   },
   "source": [
    "Zip images for downloading all on local drive.\n",
    "\n",
    "Type a folder name below (If you want to change it). Then, run the cell.\n",
    "\n",
    "Paperspace Gradient will save your data even after the machine stops.\n",
    "However, you can download everything this way."
   ]
  },
  {
   "cell_type": "code",
   "execution_count": null,
   "metadata": {
    "id": "gBt5g_Dn0NFo"
   },
   "outputs": [],
   "source": [
    "Folder_Name = \"Generated Images\"\n",
    "\n",
    "!zip -r /notebooks/{Folder_Name} /notebooks/stable-diffusion-webui/outputs "
   ]
  }
 ],
 "metadata": {
  "accelerator": "GPU",
  "colab": {
   "collapsed_sections": [
    "9qrpRUJpno7L"
   ],
   "provenance": []
  },
  "gpuClass": "standard",
  "kernelspec": {
   "display_name": "Python 3 (ipykernel)",
   "language": "python",
   "name": "python3"
  },
  "language_info": {
   "codemirror_mode": {
    "name": "ipython",
    "version": 3
   },
   "file_extension": ".py",
   "mimetype": "text/x-python",
   "name": "python",
   "nbconvert_exporter": "python",
   "pygments_lexer": "ipython3",
   "version": "3.9.13"
  }
 },
 "nbformat": 4,
 "nbformat_minor": 4
}
