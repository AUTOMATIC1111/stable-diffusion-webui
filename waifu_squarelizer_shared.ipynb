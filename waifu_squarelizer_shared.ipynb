{
  "cells": [
    {
      "cell_type": "markdown",
      "metadata": {
        "id": "view-in-github",
        "colab_type": "text"
      },
      "source": [
        "<a href=\"https://colab.research.google.com/github/PencilMario/stable-diffusion-webui/blob/master/waifu_squarelizer_shared.ipynb\" target=\"_parent\"><img src=\"https://colab.research.google.com/assets/colab-badge.svg\" alt=\"Open In Colab\"/></a>"
      ]
    },
    {
      "cell_type": "markdown",
      "metadata": {
        "id": "5VyyqKN9BDJs"
      },
      "source": [
        "# WAIFU SQUARELIZER \n",
        "repo : https://github.com/IzumiSatoshi/waifu-squarelizer  \n",
        "The image in the input folder is cropped like this using facial recognition, and output to the output folder.  \n",
        "The \"square_size_ratio\" parameter determines the size of the square to be cropped relative to the short side of the image. For example, if a vertical image is processed at 0.5, it will be cropped by a square half the size of the image width.  \n",
        "![waifu-sq.jpg](https://raw.githubusercontent.com/IzumiSatoshi/waifu-squarelizer/main/images/waifu-sq.jpg)"
      ]
    },
    {
      "cell_type": "code",
      "source": [
        "# mount google drive if you want\n",
        "from google.colab import drive\n",
        "drive.mount('/content/drive')"
      ],
      "metadata": {
        "id": "W7BtYA6hJuCl"
      },
      "execution_count": null,
      "outputs": []
    },
    {
      "cell_type": "code",
      "execution_count": null,
      "metadata": {
        "id": "rXY4yHhc6FqM"
      },
      "outputs": [],
      "source": [
        "# installation\n",
        "!pip install openmim\n",
        "!mim install mmcv-full\n",
        "!mim install mmdet\n",
        "!mim install mmpose\n",
        "\n",
        "!pip install anime-face-detector"
      ]
    },
    {
      "cell_type": "code",
      "execution_count": null,
      "metadata": {
        "id": "K7C1YncRITYT"
      },
      "outputs": [],
      "source": [
        "# imports\n",
        "import cv2\n",
        "from anime_face_detector import create_detector\n",
        "from google.colab.patches import cv2_imshow\n",
        "import glob\n",
        "import os"
      ]
    },
    {
      "cell_type": "code",
      "execution_count": null,
      "metadata": {
        "id": "P-hi1kDE7W3T"
      },
      "outputs": [],
      "source": [
        "# load model\n",
        "detector = create_detector('yolov3')"
      ]
    },
    {
      "cell_type": "code",
      "execution_count": null,
      "metadata": {
        "id": "-t66HVb-6G4r"
      },
      "outputs": [],
      "source": [
        "# main\n",
        "def squarelize(image, square_size_ratio = 1):\n",
        "  preds = detector(image)\n",
        "\n",
        "  if len(preds) == 0:\n",
        "    return None \n",
        "\n",
        "  left = preds[0]['bbox'][0]\n",
        "  bottom = preds[0]['bbox'][1]\n",
        "  right = preds[0]['bbox'][2]\n",
        "  top = preds[0]['bbox'][3]\n",
        "  face_x = int((left + right) / 2)\n",
        "  face_y = int((top + bottom) / 2)\n",
        "  height, width = image.shape[:2]\n",
        "  \n",
        "  square_size = None\n",
        "  if height > width:\n",
        "    # portrait\n",
        "    square_size = int(width * square_size_ratio)\n",
        "  else:\n",
        "    # landscape\n",
        "    square_size = int(height * square_size_ratio)\n",
        "  \n",
        "  square_size_half = square_size // 2\n",
        "  crop_x = None\n",
        "  crop_y = None\n",
        "  \n",
        "  if face_x < square_size_half:\n",
        "    crop_x = square_size_half\n",
        "  elif face_x < width - square_size_half:\n",
        "    crop_x = face_x\n",
        "  else:\n",
        "    crop_x = width - square_size_half\n",
        "  \n",
        "  if face_y < square_size_half:\n",
        "    crop_y = square_size_half   \n",
        "  elif face_y < height - (square_size_half):\n",
        "    crop_y = face_y\n",
        "  else:\n",
        "    crop_y = height - square_size_half\n",
        "  \n",
        "  sq_image = image[\n",
        "      crop_y - square_size_half : crop_y + square_size_half,\n",
        "      crop_x - square_size_half : crop_x + square_size_half\n",
        "  ]\n",
        "\n",
        "  return sq_image\n",
        "\n",
        "\n",
        "input_dir = \"/content/drive/MyDrive/test/input\"#@param{type:\"string\"}\n",
        "output_dir = \"/content/drive/MyDrive/test/output\"#@param{type:\"string\"}\n",
        "output_extension = \"jpg\"#@param{type:\"string\"}\n",
        "square_size_ratio = 1#@param {type:\"slider\", min:0, max:1, step:0.1}\n",
        "\n",
        "if not os.path.exists(output_dir):\n",
        "  raise ValueError(\"output_dir is not exist\")\n",
        "\n",
        "paths = glob.glob(input_dir + \"/*\")\n",
        "paths_len = len(paths)\n",
        "error_list = []\n",
        "\n",
        "for i, path in enumerate(paths):\n",
        "  print(f\"{i}/{paths_len} : {path}\")\n",
        "  basename = os.path.splitext(os.path.basename(path))[0]\n",
        "\n",
        "  image = cv2.imread(path)\n",
        "  sq_image = squarelize(image, square_size_ratio)\n",
        "  \n",
        "  # Skip if face does not exist\n",
        "  if sq_image is None:\n",
        "    print(\"Could not recognize the face in this image\")\n",
        "    error_list.append(path)\n",
        "    continue\n",
        "\n",
        "  sq_image = cv2.resize(sq_image, dsize=(512, 512), interpolation = cv2.INTER_AREA)\n",
        "  cv2.imwrite(f\"{output_dir}/{basename}.{output_extension}\", sq_image)\n",
        "\n",
        "print(\"error list = \", error_list)\n",
        "print(\"done. enjoy!\")"
      ]
    }
  ],
  "metadata": {
    "accelerator": "GPU",
    "colab": {
      "collapsed_sections": [],
      "machine_shape": "hm",
      "private_outputs": true,
      "provenance": [],
      "include_colab_link": true
    },
    "kernelspec": {
      "display_name": "Python 3",
      "name": "python3"
    },
    "language_info": {
      "name": "python"
    },
    "gpuClass": "standard"
  },
  "nbformat": 4,
  "nbformat_minor": 0
}