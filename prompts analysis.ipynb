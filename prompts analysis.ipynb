{
 "cells": [
  {
   "cell_type": "code",
   "execution_count": 108,
   "id": "a78788c3-5758-4077-b269-97a51ddedf87",
   "metadata": {
    "tags": []
   },
   "outputs": [],
   "source": [
    "from PIL import Image\n",
    "import glob\n",
    "import os.path as osp\n",
    "import pandas as pd\n",
    "from pathlib import Path\n",
    "import datetime\n",
    "import matplotlib.pyplot as plt\n",
    "import re"
   ]
  },
  {
   "cell_type": "code",
   "execution_count": 2,
   "id": "b98843b6-77f7-44db-9e7e-f33d28ddc539",
   "metadata": {
    "tags": []
   },
   "outputs": [],
   "source": [
    "img_dir = r'C:\\Projects\\others\\stable diff AF\\stable-diffusion-webui-AF\\outputs\\txt2img-images'"
   ]
  },
  {
   "cell_type": "code",
   "execution_count": 6,
   "id": "4daead3b-6efa-4313-b067-2ddf52fda565",
   "metadata": {
    "tags": []
   },
   "outputs": [
    {
     "data": {
      "text/plain": [
       "1814"
      ]
     },
     "execution_count": 6,
     "metadata": {},
     "output_type": "execute_result"
    }
   ],
   "source": [
    "all_images = glob.glob(osp.join(img_dir, r'**\\*.png'))\n",
    "len(all_images)"
   ]
  },
  {
   "cell_type": "code",
   "execution_count": 12,
   "id": "3d90f03a-57be-40ae-823b-0c9c78598138",
   "metadata": {
    "tags": []
   },
   "outputs": [
    {
     "data": {
      "text/plain": [
       "'((masterpiece)), (best quality), (ultra-detailed), (best illustration), (best shadow), 1girl'"
      ]
     },
     "execution_count": 12,
     "metadata": {},
     "output_type": "execute_result"
    }
   ],
   "source": [
    "filename = all_images[0]\n",
    "im = Image.open(filename)\n",
    "im.load()  # Needed only for .png EXIF data (see citation above)\n",
    "im.info['parameters'].split('\\n')[0]"
   ]
  },
  {
   "cell_type": "code",
   "execution_count": 32,
   "id": "b55a2208-4501-4834-a4fe-52790a79ad42",
   "metadata": {
    "tags": []
   },
   "outputs": [
    {
     "data": {
      "text/plain": [
       "1683280626.2309437"
      ]
     },
     "execution_count": 32,
     "metadata": {},
     "output_type": "execute_result"
    }
   ],
   "source": [
    "osp.getmtime(filename)"
   ]
  },
  {
   "cell_type": "code",
   "execution_count": 35,
   "id": "03bfd4df-e592-4def-9595-9149516005fe",
   "metadata": {
    "tags": []
   },
   "outputs": [
    {
     "data": {
      "text/plain": [
       "datetime.datetime(2023, 5, 5, 11, 57, 6, 230944)"
      ]
     },
     "execution_count": 35,
     "metadata": {},
     "output_type": "execute_result"
    }
   ],
   "source": [
    "datetime.datetime.fromtimestamp(osp.getmtime(filename))"
   ]
  },
  {
   "cell_type": "code",
   "execution_count": 19,
   "id": "05f7a83a-5563-4a57-896c-37f1c87d8298",
   "metadata": {
    "tags": []
   },
   "outputs": [
    {
     "data": {
      "text/plain": [
       "['05/00000-3984452859.png',\n",
       " '05/00001-3984452860.png',\n",
       " '05/00002-3984452861.png',\n",
       " '05/00003-3984452862.png',\n",
       " '05/00004-1497326106.png']"
      ]
     },
     "execution_count": 19,
     "metadata": {},
     "output_type": "execute_result"
    }
   ],
   "source": [
    "image_names = [osp.split(i)[0][-2:]+'/'+osp.split(i)[1] for i in all_images]\n",
    "image_names[:5]"
   ]
  },
  {
   "cell_type": "code",
   "execution_count": 29,
   "id": "cd2cd013-d988-40da-87fa-00e9a3d84065",
   "metadata": {
    "tags": []
   },
   "outputs": [
    {
     "data": {
      "text/plain": [
       "[WindowsPath('C:/Projects/others/stable diff AF/stable-diffusion-webui-AF/outputs/txt2img-images/2023-05-05/00000-3984452859.png'),\n",
       " WindowsPath('C:/Projects/others/stable diff AF/stable-diffusion-webui-AF/outputs/txt2img-images/2023-05-05/00001-3984452860.png'),\n",
       " WindowsPath('C:/Projects/others/stable diff AF/stable-diffusion-webui-AF/outputs/txt2img-images/2023-05-05/00002-3984452861.png'),\n",
       " WindowsPath('C:/Projects/others/stable diff AF/stable-diffusion-webui-AF/outputs/txt2img-images/2023-05-05/00003-3984452862.png'),\n",
       " WindowsPath('C:/Projects/others/stable diff AF/stable-diffusion-webui-AF/outputs/txt2img-images/2023-05-05/00004-1497326106.png')]"
      ]
     },
     "execution_count": 29,
     "metadata": {},
     "output_type": "execute_result"
    }
   ],
   "source": [
    "image_paths = [Path(i) for i in all_images]\n",
    "image_paths[:5]"
   ]
  },
  {
   "cell_type": "code",
   "execution_count": 20,
   "id": "1a9f659b-9e1b-4e39-a755-3d1857acea80",
   "metadata": {
    "tags": []
   },
   "outputs": [],
   "source": [
    "image_prompts = []\n",
    "for i in all_images:\n",
    "    im = Image.open(i)\n",
    "    im.load()  # Needed only for .png EXIF data (see citation above)\n",
    "    image_prompts.append(im.info['parameters'].split('\\n')[0])"
   ]
  },
  {
   "cell_type": "code",
   "execution_count": 38,
   "id": "e10b824f-041f-4ac5-808b-0e4bafe81e3d",
   "metadata": {
    "tags": []
   },
   "outputs": [],
   "source": [
    "image_dates = [datetime.datetime.fromtimestamp(osp.getmtime(i)) for i in all_images]"
   ]
  },
  {
   "cell_type": "code",
   "execution_count": 39,
   "id": "27e72d2e-c880-4a11-8e74-a2e661d105b8",
   "metadata": {
    "tags": []
   },
   "outputs": [
    {
     "data": {
      "text/html": [
       "<div>\n",
       "<style scoped>\n",
       "    .dataframe tbody tr th:only-of-type {\n",
       "        vertical-align: middle;\n",
       "    }\n",
       "\n",
       "    .dataframe tbody tr th {\n",
       "        vertical-align: top;\n",
       "    }\n",
       "\n",
       "    .dataframe thead th {\n",
       "        text-align: right;\n",
       "    }\n",
       "</style>\n",
       "<table border=\"1\" class=\"dataframe\">\n",
       "  <thead>\n",
       "    <tr style=\"text-align: right;\">\n",
       "      <th></th>\n",
       "      <th>name</th>\n",
       "      <th>prompt</th>\n",
       "      <th>created</th>\n",
       "    </tr>\n",
       "  </thead>\n",
       "  <tbody>\n",
       "    <tr>\n",
       "      <th>0</th>\n",
       "      <td>05/00000-3984452859.png</td>\n",
       "      <td>((masterpiece)), (best quality), (ultra-detail...</td>\n",
       "      <td>2023-05-05 11:57:06.230944</td>\n",
       "    </tr>\n",
       "    <tr>\n",
       "      <th>1</th>\n",
       "      <td>05/00001-3984452860.png</td>\n",
       "      <td>((masterpiece)), (best quality), (ultra-detail...</td>\n",
       "      <td>2023-05-05 11:57:06.311726</td>\n",
       "    </tr>\n",
       "    <tr>\n",
       "      <th>2</th>\n",
       "      <td>05/00002-3984452861.png</td>\n",
       "      <td>((masterpiece)), (best quality), (ultra-detail...</td>\n",
       "      <td>2023-05-05 11:57:25.190799</td>\n",
       "    </tr>\n",
       "    <tr>\n",
       "      <th>3</th>\n",
       "      <td>05/00003-3984452862.png</td>\n",
       "      <td>((masterpiece)), (best quality), (ultra-detail...</td>\n",
       "      <td>2023-05-05 11:57:25.265597</td>\n",
       "    </tr>\n",
       "    <tr>\n",
       "      <th>4</th>\n",
       "      <td>05/00004-1497326106.png</td>\n",
       "      <td>((masterpiece)), (best quality), (ultra-detail...</td>\n",
       "      <td>2023-05-05 12:14:16.942411</td>\n",
       "    </tr>\n",
       "    <tr>\n",
       "      <th>...</th>\n",
       "      <td>...</td>\n",
       "      <td>...</td>\n",
       "      <td>...</td>\n",
       "    </tr>\n",
       "    <tr>\n",
       "      <th>1809</th>\n",
       "      <td>07/00433-318720306.png</td>\n",
       "      <td>((masterpiece)), (best quality), (ultra-detail...</td>\n",
       "      <td>2023-05-07 13:01:29.379590</td>\n",
       "    </tr>\n",
       "    <tr>\n",
       "      <th>1810</th>\n",
       "      <td>07/00434-1236313520.png</td>\n",
       "      <td>((masterpiece)), (best quality), (ultra-detail...</td>\n",
       "      <td>2023-05-07 13:02:05.016395</td>\n",
       "    </tr>\n",
       "    <tr>\n",
       "      <th>1811</th>\n",
       "      <td>07/00435-1236313521.png</td>\n",
       "      <td>((masterpiece)), (best quality), (ultra-detail...</td>\n",
       "      <td>2023-05-07 13:02:05.134293</td>\n",
       "    </tr>\n",
       "    <tr>\n",
       "      <th>1812</th>\n",
       "      <td>07/00436-2159005431.png</td>\n",
       "      <td>Megumin in maid costume</td>\n",
       "      <td>2023-05-07 13:03:45.946393</td>\n",
       "    </tr>\n",
       "    <tr>\n",
       "      <th>1813</th>\n",
       "      <td>07/00437-2159005432.png</td>\n",
       "      <td>Megumin in maid costume</td>\n",
       "      <td>2023-05-07 13:03:46.029656</td>\n",
       "    </tr>\n",
       "  </tbody>\n",
       "</table>\n",
       "<p>1814 rows × 3 columns</p>\n",
       "</div>"
      ],
      "text/plain": [
       "                         name   \n",
       "0     05/00000-3984452859.png  \\\n",
       "1     05/00001-3984452860.png   \n",
       "2     05/00002-3984452861.png   \n",
       "3     05/00003-3984452862.png   \n",
       "4     05/00004-1497326106.png   \n",
       "...                       ...   \n",
       "1809   07/00433-318720306.png   \n",
       "1810  07/00434-1236313520.png   \n",
       "1811  07/00435-1236313521.png   \n",
       "1812  07/00436-2159005431.png   \n",
       "1813  07/00437-2159005432.png   \n",
       "\n",
       "                                                 prompt   \n",
       "0     ((masterpiece)), (best quality), (ultra-detail...  \\\n",
       "1     ((masterpiece)), (best quality), (ultra-detail...   \n",
       "2     ((masterpiece)), (best quality), (ultra-detail...   \n",
       "3     ((masterpiece)), (best quality), (ultra-detail...   \n",
       "4     ((masterpiece)), (best quality), (ultra-detail...   \n",
       "...                                                 ...   \n",
       "1809  ((masterpiece)), (best quality), (ultra-detail...   \n",
       "1810  ((masterpiece)), (best quality), (ultra-detail...   \n",
       "1811  ((masterpiece)), (best quality), (ultra-detail...   \n",
       "1812                            Megumin in maid costume   \n",
       "1813                            Megumin in maid costume   \n",
       "\n",
       "                        created  \n",
       "0    2023-05-05 11:57:06.230944  \n",
       "1    2023-05-05 11:57:06.311726  \n",
       "2    2023-05-05 11:57:25.190799  \n",
       "3    2023-05-05 11:57:25.265597  \n",
       "4    2023-05-05 12:14:16.942411  \n",
       "...                         ...  \n",
       "1809 2023-05-07 13:01:29.379590  \n",
       "1810 2023-05-07 13:02:05.016395  \n",
       "1811 2023-05-07 13:02:05.134293  \n",
       "1812 2023-05-07 13:03:45.946393  \n",
       "1813 2023-05-07 13:03:46.029656  \n",
       "\n",
       "[1814 rows x 3 columns]"
      ]
     },
     "execution_count": 39,
     "metadata": {},
     "output_type": "execute_result"
    }
   ],
   "source": [
    "df = pd.DataFrame(data={'name': image_names, 'prompt': image_prompts, 'created': image_dates})\n",
    "df"
   ]
  },
  {
   "cell_type": "code",
   "execution_count": 40,
   "id": "ef46b40b-a914-43bd-aabd-a83f86d9763b",
   "metadata": {
    "tags": []
   },
   "outputs": [
    {
     "data": {
      "text/plain": [
       "(816,\n",
       " array(['((masterpiece)), (best quality), (ultra-detailed), (best illustration), (best shadow), 1girl',\n",
       "        'Photograph of a donkey',\n",
       "        '((masterpiece)), (best quality), (ultra-detailed), (best illustration), (best shadow), 1girl, loli, petite, schoolgirl',\n",
       "        '((masterpiece)), (best quality), (ultra-detailed), (best illustration), (best shadow), loli, petite, schoolgirl',\n",
       "        '((masterpiece)), (best quality), (ultra-detailed), (best illustration), (best shadow), loli, petite, schoolgirl, human, standing person'],\n",
       "       dtype=object))"
      ]
     },
     "execution_count": 40,
     "metadata": {},
     "output_type": "execute_result"
    }
   ],
   "source": [
    "unique_prompts = df['prompt'].unique()\n",
    "len(unique_prompts), unique_prompts[:5]"
   ]
  },
  {
   "cell_type": "code",
   "execution_count": 45,
   "id": "aab97d98-69a7-4820-83c8-e6e963b94313",
   "metadata": {
    "tags": []
   },
   "outputs": [
    {
     "data": {
      "text/html": [
       "<div>\n",
       "<style scoped>\n",
       "    .dataframe tbody tr th:only-of-type {\n",
       "        vertical-align: middle;\n",
       "    }\n",
       "\n",
       "    .dataframe tbody tr th {\n",
       "        vertical-align: top;\n",
       "    }\n",
       "\n",
       "    .dataframe thead th {\n",
       "        text-align: right;\n",
       "    }\n",
       "</style>\n",
       "<table border=\"1\" class=\"dataframe\">\n",
       "  <thead>\n",
       "    <tr style=\"text-align: right;\">\n",
       "      <th></th>\n",
       "      <th>name</th>\n",
       "      <th>prompt</th>\n",
       "      <th>created</th>\n",
       "    </tr>\n",
       "  </thead>\n",
       "  <tbody>\n",
       "    <tr>\n",
       "      <th>594</th>\n",
       "      <td>06/00387-329053753.png</td>\n",
       "      <td>rengoku,standing,in flames</td>\n",
       "      <td>2023-05-06 15:07:22.189667</td>\n",
       "    </tr>\n",
       "    <tr>\n",
       "      <th>595</th>\n",
       "      <td>06/00388-329053754.png</td>\n",
       "      <td>rengoku,standing,in flames</td>\n",
       "      <td>2023-05-06 15:07:22.305562</td>\n",
       "    </tr>\n",
       "    <tr>\n",
       "      <th>600</th>\n",
       "      <td>06/00393-3618108937.png</td>\n",
       "      <td>Muzan Kibutsuji,black curly hair, white hat, r...</td>\n",
       "      <td>2023-05-06 15:11:22.554449</td>\n",
       "    </tr>\n",
       "    <tr>\n",
       "      <th>601</th>\n",
       "      <td>06/00394-3618108938.png</td>\n",
       "      <td>Muzan Kibutsuji,black curly hair, white hat, r...</td>\n",
       "      <td>2023-05-06 15:11:22.642744</td>\n",
       "    </tr>\n",
       "    <tr>\n",
       "      <th>604</th>\n",
       "      <td>06/00397-3877016343.png</td>\n",
       "      <td>Michael Jackson,black curly hair,singing,moonw...</td>\n",
       "      <td>2023-05-06 15:13:37.514172</td>\n",
       "    </tr>\n",
       "    <tr>\n",
       "      <th>605</th>\n",
       "      <td>06/00398-3877016344.png</td>\n",
       "      <td>Michael Jackson,black curly hair,singing,moonw...</td>\n",
       "      <td>2023-05-06 15:13:37.590384</td>\n",
       "    </tr>\n",
       "    <tr>\n",
       "      <th>606</th>\n",
       "      <td>06/00399-4199443699.png</td>\n",
       "      <td>Michael Jackson,black curly hair,singing,</td>\n",
       "      <td>2023-05-06 15:14:32.237536</td>\n",
       "    </tr>\n",
       "    <tr>\n",
       "      <th>607</th>\n",
       "      <td>06/00400-4199443700.png</td>\n",
       "      <td>Michael Jackson,black curly hair,singing,</td>\n",
       "      <td>2023-05-06 15:14:32.305580</td>\n",
       "    </tr>\n",
       "    <tr>\n",
       "      <th>787</th>\n",
       "      <td>06/00580-310295830.png</td>\n",
       "      <td>(kenku,Raven) dnd character , barbarian ,giant...</td>\n",
       "      <td>2023-05-06 16:47:01.053032</td>\n",
       "    </tr>\n",
       "    <tr>\n",
       "      <th>788</th>\n",
       "      <td>06/00581-310295831.png</td>\n",
       "      <td>(kenku,Raven) dnd character , barbarian ,giant...</td>\n",
       "      <td>2023-05-06 16:47:01.161563</td>\n",
       "    </tr>\n",
       "    <tr>\n",
       "      <th>1009</th>\n",
       "      <td>06/00802-1737035806.png</td>\n",
       "      <td>(kitsune,red)low polly</td>\n",
       "      <td>2023-05-06 18:54:58.412293</td>\n",
       "    </tr>\n",
       "    <tr>\n",
       "      <th>1010</th>\n",
       "      <td>06/00803-1737035807.png</td>\n",
       "      <td>(kitsune,red)low polly</td>\n",
       "      <td>2023-05-06 18:54:58.486370</td>\n",
       "    </tr>\n",
       "    <tr>\n",
       "      <th>1011</th>\n",
       "      <td>06/00804-2939846582.png</td>\n",
       "      <td>(kitsune,red)unreal engine 5, hyper realistic</td>\n",
       "      <td>2023-05-06 18:55:38.654569</td>\n",
       "    </tr>\n",
       "    <tr>\n",
       "      <th>1012</th>\n",
       "      <td>06/00805-2939846583.png</td>\n",
       "      <td>(kitsune,red)unreal engine 5, hyper realistic</td>\n",
       "      <td>2023-05-06 18:55:38.765454</td>\n",
       "    </tr>\n",
       "    <tr>\n",
       "      <th>1342</th>\n",
       "      <td>06/01135-948575539.png</td>\n",
       "      <td>masterpiece, high quality,realistic, crowns, f...</td>\n",
       "      <td>2023-05-06 22:17:36.396648</td>\n",
       "    </tr>\n",
       "    <tr>\n",
       "      <th>1343</th>\n",
       "      <td>06/01136-948575540.png</td>\n",
       "      <td>masterpiece, high quality,realistic, crowns, f...</td>\n",
       "      <td>2023-05-06 22:17:36.512903</td>\n",
       "    </tr>\n",
       "    <tr>\n",
       "      <th>1344</th>\n",
       "      <td>06/01137-3618753839.png</td>\n",
       "      <td>masterpiece, high quality,realistic, ((crowns)...</td>\n",
       "      <td>2023-05-06 22:18:15.280517</td>\n",
       "    </tr>\n",
       "    <tr>\n",
       "      <th>1345</th>\n",
       "      <td>06/01138-3618753840.png</td>\n",
       "      <td>masterpiece, high quality,realistic, ((crowns)...</td>\n",
       "      <td>2023-05-06 22:18:15.380936</td>\n",
       "    </tr>\n",
       "    <tr>\n",
       "      <th>1346</th>\n",
       "      <td>06/01139-825619797.png</td>\n",
       "      <td>masterpiece, high quality,realistic, ((ravens)...</td>\n",
       "      <td>2023-05-06 22:18:56.722246</td>\n",
       "    </tr>\n",
       "    <tr>\n",
       "      <th>1347</th>\n",
       "      <td>06/01140-825619798.png</td>\n",
       "      <td>masterpiece, high quality,realistic, ((ravens)...</td>\n",
       "      <td>2023-05-06 22:18:56.837561</td>\n",
       "    </tr>\n",
       "    <tr>\n",
       "      <th>1348</th>\n",
       "      <td>06/01141-1960607041.png</td>\n",
       "      <td>masterpiece, high quality,realistic, ((flock o...</td>\n",
       "      <td>2023-05-06 22:19:40.359518</td>\n",
       "    </tr>\n",
       "    <tr>\n",
       "      <th>1349</th>\n",
       "      <td>06/01142-1960607042.png</td>\n",
       "      <td>masterpiece, high quality,realistic, ((flock o...</td>\n",
       "      <td>2023-05-06 22:19:40.471667</td>\n",
       "    </tr>\n",
       "    <tr>\n",
       "      <th>1350</th>\n",
       "      <td>06/01143-626739244.png</td>\n",
       "      <td>masterpiece, high quality,realistic, ((flock) ...</td>\n",
       "      <td>2023-05-06 22:20:49.537383</td>\n",
       "    </tr>\n",
       "    <tr>\n",
       "      <th>1351</th>\n",
       "      <td>06/01144-626739245.png</td>\n",
       "      <td>masterpiece, high quality,realistic, ((flock) ...</td>\n",
       "      <td>2023-05-06 22:20:49.636924</td>\n",
       "    </tr>\n",
       "    <tr>\n",
       "      <th>1352</th>\n",
       "      <td>06/01145-2872225872.png</td>\n",
       "      <td>masterpiece, high quality,realistic, (flying (...</td>\n",
       "      <td>2023-05-06 22:21:29.046260</td>\n",
       "    </tr>\n",
       "    <tr>\n",
       "      <th>1353</th>\n",
       "      <td>06/01146-2872225873.png</td>\n",
       "      <td>masterpiece, high quality,realistic, (flying (...</td>\n",
       "      <td>2023-05-06 22:21:29.158702</td>\n",
       "    </tr>\n",
       "    <tr>\n",
       "      <th>1354</th>\n",
       "      <td>06/01147-2040680599.png</td>\n",
       "      <td>masterpiece, high quality,realistic, metalhead...</td>\n",
       "      <td>2023-05-06 22:22:43.926577</td>\n",
       "    </tr>\n",
       "    <tr>\n",
       "      <th>1355</th>\n",
       "      <td>06/01148-2040680600.png</td>\n",
       "      <td>masterpiece, high quality,realistic, metalhead...</td>\n",
       "      <td>2023-05-06 22:22:44.010861</td>\n",
       "    </tr>\n",
       "    <tr>\n",
       "      <th>1356</th>\n",
       "      <td>06/01149-2063382789.png</td>\n",
       "      <td>masterpiece, high quality,realistic, metalhead...</td>\n",
       "      <td>2023-05-06 22:24:36.767469</td>\n",
       "    </tr>\n",
       "    <tr>\n",
       "      <th>1357</th>\n",
       "      <td>06/01150-2063382790.png</td>\n",
       "      <td>masterpiece, high quality,realistic, metalhead...</td>\n",
       "      <td>2023-05-06 22:24:36.858387</td>\n",
       "    </tr>\n",
       "    <tr>\n",
       "      <th>1788</th>\n",
       "      <td>07/00412-1372492408.png</td>\n",
       "      <td>L from death note,nice looking, is holding an ...</td>\n",
       "      <td>2023-05-07 12:53:23.439226</td>\n",
       "    </tr>\n",
       "    <tr>\n",
       "      <th>1789</th>\n",
       "      <td>07/00413-1372492409.png</td>\n",
       "      <td>L from death note,nice looking, is holding an ...</td>\n",
       "      <td>2023-05-07 12:53:23.540209</td>\n",
       "    </tr>\n",
       "  </tbody>\n",
       "</table>\n",
       "</div>"
      ],
      "text/plain": [
       "                         name   \n",
       "594    06/00387-329053753.png  \\\n",
       "595    06/00388-329053754.png   \n",
       "600   06/00393-3618108937.png   \n",
       "601   06/00394-3618108938.png   \n",
       "604   06/00397-3877016343.png   \n",
       "605   06/00398-3877016344.png   \n",
       "606   06/00399-4199443699.png   \n",
       "607   06/00400-4199443700.png   \n",
       "787    06/00580-310295830.png   \n",
       "788    06/00581-310295831.png   \n",
       "1009  06/00802-1737035806.png   \n",
       "1010  06/00803-1737035807.png   \n",
       "1011  06/00804-2939846582.png   \n",
       "1012  06/00805-2939846583.png   \n",
       "1342   06/01135-948575539.png   \n",
       "1343   06/01136-948575540.png   \n",
       "1344  06/01137-3618753839.png   \n",
       "1345  06/01138-3618753840.png   \n",
       "1346   06/01139-825619797.png   \n",
       "1347   06/01140-825619798.png   \n",
       "1348  06/01141-1960607041.png   \n",
       "1349  06/01142-1960607042.png   \n",
       "1350   06/01143-626739244.png   \n",
       "1351   06/01144-626739245.png   \n",
       "1352  06/01145-2872225872.png   \n",
       "1353  06/01146-2872225873.png   \n",
       "1354  06/01147-2040680599.png   \n",
       "1355  06/01148-2040680600.png   \n",
       "1356  06/01149-2063382789.png   \n",
       "1357  06/01150-2063382790.png   \n",
       "1788  07/00412-1372492408.png   \n",
       "1789  07/00413-1372492409.png   \n",
       "\n",
       "                                                 prompt   \n",
       "594                          rengoku,standing,in flames  \\\n",
       "595                          rengoku,standing,in flames   \n",
       "600   Muzan Kibutsuji,black curly hair, white hat, r...   \n",
       "601   Muzan Kibutsuji,black curly hair, white hat, r...   \n",
       "604   Michael Jackson,black curly hair,singing,moonw...   \n",
       "605   Michael Jackson,black curly hair,singing,moonw...   \n",
       "606           Michael Jackson,black curly hair,singing,   \n",
       "607           Michael Jackson,black curly hair,singing,   \n",
       "787   (kenku,Raven) dnd character , barbarian ,giant...   \n",
       "788   (kenku,Raven) dnd character , barbarian ,giant...   \n",
       "1009                             (kitsune,red)low polly   \n",
       "1010                             (kitsune,red)low polly   \n",
       "1011     (kitsune,red)unreal engine 5, hyper realistic    \n",
       "1012     (kitsune,red)unreal engine 5, hyper realistic    \n",
       "1342  masterpiece, high quality,realistic, crowns, f...   \n",
       "1343  masterpiece, high quality,realistic, crowns, f...   \n",
       "1344  masterpiece, high quality,realistic, ((crowns)...   \n",
       "1345  masterpiece, high quality,realistic, ((crowns)...   \n",
       "1346  masterpiece, high quality,realistic, ((ravens)...   \n",
       "1347  masterpiece, high quality,realistic, ((ravens)...   \n",
       "1348  masterpiece, high quality,realistic, ((flock o...   \n",
       "1349  masterpiece, high quality,realistic, ((flock o...   \n",
       "1350  masterpiece, high quality,realistic, ((flock) ...   \n",
       "1351  masterpiece, high quality,realistic, ((flock) ...   \n",
       "1352  masterpiece, high quality,realistic, (flying (...   \n",
       "1353  masterpiece, high quality,realistic, (flying (...   \n",
       "1354  masterpiece, high quality,realistic, metalhead...   \n",
       "1355  masterpiece, high quality,realistic, metalhead...   \n",
       "1356  masterpiece, high quality,realistic, metalhead...   \n",
       "1357  masterpiece, high quality,realistic, metalhead...   \n",
       "1788  L from death note,nice looking, is holding an ...   \n",
       "1789  L from death note,nice looking, is holding an ...   \n",
       "\n",
       "                        created  \n",
       "594  2023-05-06 15:07:22.189667  \n",
       "595  2023-05-06 15:07:22.305562  \n",
       "600  2023-05-06 15:11:22.554449  \n",
       "601  2023-05-06 15:11:22.642744  \n",
       "604  2023-05-06 15:13:37.514172  \n",
       "605  2023-05-06 15:13:37.590384  \n",
       "606  2023-05-06 15:14:32.237536  \n",
       "607  2023-05-06 15:14:32.305580  \n",
       "787  2023-05-06 16:47:01.053032  \n",
       "788  2023-05-06 16:47:01.161563  \n",
       "1009 2023-05-06 18:54:58.412293  \n",
       "1010 2023-05-06 18:54:58.486370  \n",
       "1011 2023-05-06 18:55:38.654569  \n",
       "1012 2023-05-06 18:55:38.765454  \n",
       "1342 2023-05-06 22:17:36.396648  \n",
       "1343 2023-05-06 22:17:36.512903  \n",
       "1344 2023-05-06 22:18:15.280517  \n",
       "1345 2023-05-06 22:18:15.380936  \n",
       "1346 2023-05-06 22:18:56.722246  \n",
       "1347 2023-05-06 22:18:56.837561  \n",
       "1348 2023-05-06 22:19:40.359518  \n",
       "1349 2023-05-06 22:19:40.471667  \n",
       "1350 2023-05-06 22:20:49.537383  \n",
       "1351 2023-05-06 22:20:49.636924  \n",
       "1352 2023-05-06 22:21:29.046260  \n",
       "1353 2023-05-06 22:21:29.158702  \n",
       "1354 2023-05-06 22:22:43.926577  \n",
       "1355 2023-05-06 22:22:44.010861  \n",
       "1356 2023-05-06 22:24:36.767469  \n",
       "1357 2023-05-06 22:24:36.858387  \n",
       "1788 2023-05-07 12:53:23.439226  \n",
       "1789 2023-05-07 12:53:23.540209  "
      ]
     },
     "execution_count": 45,
     "metadata": {},
     "output_type": "execute_result"
    }
   ],
   "source": [
    "df[df['prompt'].str.contains('\\w,\\w')]"
   ]
  },
  {
   "cell_type": "code",
   "execution_count": 142,
   "id": "3bb05f25-adb8-4bf3-a126-c088c4d6fdec",
   "metadata": {
    "tags": []
   },
   "outputs": [
    {
     "data": {
      "text/plain": [
       "(0               ((masterpiece))\n",
       " 0                (best quality)\n",
       " 0              (ultra-detailed)\n",
       " 0           (best illustration)\n",
       " 0                 (best shadow)\n",
       "                  ...           \n",
       " 1811           (ultra-detailed)\n",
       " 1811        (best illustration)\n",
       " 1811             big brain time\n",
       " 1812    Megumin in maid costume\n",
       " 1813    Megumin in maid costume\n",
       " Name: prompt, Length: 8092, dtype: object,\n",
       " 0       masterpiece\n",
       " 0                  \n",
       " 0              best\n",
       " 0           quality\n",
       " 0                  \n",
       "            ...     \n",
       " 1812        costume\n",
       " 1813        Megumin\n",
       " 1813             in\n",
       " 1813           maid\n",
       " 1813        costume\n",
       " Name: prompt, Length: 24524, dtype: object)"
      ]
     },
     "execution_count": 142,
     "metadata": {},
     "output_type": "execute_result"
    }
   ],
   "source": [
    "prompt_phrases = df['prompt'].str.split(',')\n",
    "prompt_words = df['prompt'].str.replace('(','').str.replace(')','').str.split(r'[,\\s]', regex=True)\n",
    "all_prompt_phrases = prompt_phrases.explode().str.strip()\n",
    "all_prompt_words = prompt_words.explode().str.strip()\n",
    "all_prompt_phrases, all_prompt_words"
   ]
  },
  {
   "cell_type": "code",
   "execution_count": 150,
   "id": "f9e8e0da-7219-4e78-b39b-60957aee9909",
   "metadata": {
    "tags": []
   },
   "outputs": [],
   "source": [
    "df['phrase_len'] = prompt_phrases.apply(len)\n",
    "df['word_len'] = prompt_words.apply(len)"
   ]
  },
  {
   "cell_type": "code",
   "execution_count": 151,
   "id": "b20587d5-f898-45f1-bd46-b38dd771e719",
   "metadata": {
    "tags": []
   },
   "outputs": [
    {
     "data": {
      "text/plain": [
       "(1362,\n",
       " array(['masterpiece', '', 'best', ..., 'windy', 'brain', 'Megumin'],\n",
       "       dtype=object))"
      ]
     },
     "execution_count": 151,
     "metadata": {},
     "output_type": "execute_result"
    }
   ],
   "source": [
    "unique_prompts = all_prompt_words.unique()\n",
    "len(unique_prompts), unique_prompts"
   ]
  },
  {
   "cell_type": "code",
   "execution_count": 152,
   "id": "e3cc00dd-f288-4d2b-9799-7657ff8650f0",
   "metadata": {
    "tags": []
   },
   "outputs": [
    {
     "data": {
      "text/html": [
       "<div>\n",
       "<style scoped>\n",
       "    .dataframe tbody tr th:only-of-type {\n",
       "        vertical-align: middle;\n",
       "    }\n",
       "\n",
       "    .dataframe tbody tr th {\n",
       "        vertical-align: top;\n",
       "    }\n",
       "\n",
       "    .dataframe thead th {\n",
       "        text-align: right;\n",
       "    }\n",
       "</style>\n",
       "<table border=\"1\" class=\"dataframe\">\n",
       "  <thead>\n",
       "    <tr style=\"text-align: right;\">\n",
       "      <th></th>\n",
       "      <th>name</th>\n",
       "      <th>prompt</th>\n",
       "      <th>prompt_len</th>\n",
       "      <th>phrase_len</th>\n",
       "      <th>word_len</th>\n",
       "    </tr>\n",
       "    <tr>\n",
       "      <th>created</th>\n",
       "      <th></th>\n",
       "      <th></th>\n",
       "      <th></th>\n",
       "      <th></th>\n",
       "      <th></th>\n",
       "    </tr>\n",
       "  </thead>\n",
       "  <tbody>\n",
       "    <tr>\n",
       "      <th>2023-05-05 11:00:00</th>\n",
       "      <td>4</td>\n",
       "      <td>4</td>\n",
       "      <td>4</td>\n",
       "      <td>4</td>\n",
       "      <td>4</td>\n",
       "    </tr>\n",
       "    <tr>\n",
       "      <th>2023-05-05 12:00:00</th>\n",
       "      <td>32</td>\n",
       "      <td>32</td>\n",
       "      <td>32</td>\n",
       "      <td>32</td>\n",
       "      <td>32</td>\n",
       "    </tr>\n",
       "    <tr>\n",
       "      <th>2023-05-05 13:00:00</th>\n",
       "      <td>28</td>\n",
       "      <td>28</td>\n",
       "      <td>28</td>\n",
       "      <td>28</td>\n",
       "      <td>28</td>\n",
       "    </tr>\n",
       "    <tr>\n",
       "      <th>2023-05-05 14:00:00</th>\n",
       "      <td>6</td>\n",
       "      <td>6</td>\n",
       "      <td>6</td>\n",
       "      <td>6</td>\n",
       "      <td>6</td>\n",
       "    </tr>\n",
       "    <tr>\n",
       "      <th>2023-05-05 15:00:00</th>\n",
       "      <td>2</td>\n",
       "      <td>2</td>\n",
       "      <td>2</td>\n",
       "      <td>2</td>\n",
       "      <td>2</td>\n",
       "    </tr>\n",
       "  </tbody>\n",
       "</table>\n",
       "</div>"
      ],
      "text/plain": [
       "                     name  prompt  prompt_len  phrase_len  word_len\n",
       "created                                                            \n",
       "2023-05-05 11:00:00     4       4           4           4         4\n",
       "2023-05-05 12:00:00    32      32          32          32        32\n",
       "2023-05-05 13:00:00    28      28          28          28        28\n",
       "2023-05-05 14:00:00     6       6           6           6         6\n",
       "2023-05-05 15:00:00     2       2           2           2         2"
      ]
     },
     "execution_count": 152,
     "metadata": {},
     "output_type": "execute_result"
    }
   ],
   "source": [
    "created_times = df.resample('1H', on='created').count()\n",
    "created_times[:5]"
   ]
  },
  {
   "cell_type": "code",
   "execution_count": 153,
   "id": "32138f39-9e7f-472c-b80c-b342655860e4",
   "metadata": {
    "tags": []
   },
   "outputs": [
    {
     "data": {
      "image/png": "[encoded data removed]",
      "text/plain": [
       "<Figure size 1600x1000 with 1 Axes>"
      ]
     },
     "metadata": {},
     "output_type": "display_data"
    }
   ],
   "source": [
    "from matplotlib.dates import HourLocator, DateFormatter\n",
    "created_times['name'].plot(kind='bar', figsize=(16, 10), linewidth=1.3)\n",
    "ax = plt.gca()\n",
    "labels = ax.get_xticklabels()\n",
    "[i.set_text(re.sub('2023-05-0\\d','', i.get_text()).replace(':00:00', 'h')) for i in labels]\n",
    "ax.set_xticklabels(labels)\n",
    "plt.xticks(rotation=30)\n",
    "plt.grid()\n",
    "plt.title('počet vygenerovaných obrázků')\n",
    "None"
   ]
  },
  {
   "cell_type": "code",
   "execution_count": 154,
   "id": "ed6ee268-af60-4f3f-8eeb-2230a771b280",
   "metadata": {
    "tags": []
   },
   "outputs": [
    {
     "data": {
      "text/html": [
       "<div>\n",
       "<style scoped>\n",
       "    .dataframe tbody tr th:only-of-type {\n",
       "        vertical-align: middle;\n",
       "    }\n",
       "\n",
       "    .dataframe tbody tr th {\n",
       "        vertical-align: top;\n",
       "    }\n",
       "\n",
       "    .dataframe thead th {\n",
       "        text-align: right;\n",
       "    }\n",
       "</style>\n",
       "<table border=\"1\" class=\"dataframe\">\n",
       "  <thead>\n",
       "    <tr style=\"text-align: right;\">\n",
       "      <th></th>\n",
       "      <th>name</th>\n",
       "      <th>prompt</th>\n",
       "      <th>created</th>\n",
       "      <th>prompt_len</th>\n",
       "      <th>phrase_len</th>\n",
       "      <th>word_len</th>\n",
       "    </tr>\n",
       "  </thead>\n",
       "  <tbody>\n",
       "    <tr>\n",
       "      <th>0</th>\n",
       "      <td>05/00000-3984452859.png</td>\n",
       "      <td>((masterpiece)), (best quality), (ultra-detail...</td>\n",
       "      <td>2023-05-05 11:57:06.230944</td>\n",
       "      <td>6</td>\n",
       "      <td>6</td>\n",
       "      <td>14</td>\n",
       "    </tr>\n",
       "    <tr>\n",
       "      <th>1</th>\n",
       "      <td>05/00001-3984452860.png</td>\n",
       "      <td>((masterpiece)), (best quality), (ultra-detail...</td>\n",
       "      <td>2023-05-05 11:57:06.311726</td>\n",
       "      <td>6</td>\n",
       "      <td>6</td>\n",
       "      <td>14</td>\n",
       "    </tr>\n",
       "    <tr>\n",
       "      <th>2</th>\n",
       "      <td>05/00002-3984452861.png</td>\n",
       "      <td>((masterpiece)), (best quality), (ultra-detail...</td>\n",
       "      <td>2023-05-05 11:57:25.190799</td>\n",
       "      <td>6</td>\n",
       "      <td>6</td>\n",
       "      <td>14</td>\n",
       "    </tr>\n",
       "    <tr>\n",
       "      <th>3</th>\n",
       "      <td>05/00003-3984452862.png</td>\n",
       "      <td>((masterpiece)), (best quality), (ultra-detail...</td>\n",
       "      <td>2023-05-05 11:57:25.265597</td>\n",
       "      <td>6</td>\n",
       "      <td>6</td>\n",
       "      <td>14</td>\n",
       "    </tr>\n",
       "    <tr>\n",
       "      <th>4</th>\n",
       "      <td>05/00004-1497326106.png</td>\n",
       "      <td>((masterpiece)), (best quality), (ultra-detail...</td>\n",
       "      <td>2023-05-05 12:14:16.942411</td>\n",
       "      <td>6</td>\n",
       "      <td>6</td>\n",
       "      <td>14</td>\n",
       "    </tr>\n",
       "    <tr>\n",
       "      <th>...</th>\n",
       "      <td>...</td>\n",
       "      <td>...</td>\n",
       "      <td>...</td>\n",
       "      <td>...</td>\n",
       "      <td>...</td>\n",
       "      <td>...</td>\n",
       "    </tr>\n",
       "    <tr>\n",
       "      <th>1809</th>\n",
       "      <td>07/00433-318720306.png</td>\n",
       "      <td>((masterpiece)), (best quality), (ultra-detail...</td>\n",
       "      <td>2023-05-07 13:01:29.379590</td>\n",
       "      <td>13</td>\n",
       "      <td>13</td>\n",
       "      <td>30</td>\n",
       "    </tr>\n",
       "    <tr>\n",
       "      <th>1810</th>\n",
       "      <td>07/00434-1236313520.png</td>\n",
       "      <td>((masterpiece)), (best quality), (ultra-detail...</td>\n",
       "      <td>2023-05-07 13:02:05.016395</td>\n",
       "      <td>5</td>\n",
       "      <td>5</td>\n",
       "      <td>13</td>\n",
       "    </tr>\n",
       "    <tr>\n",
       "      <th>1811</th>\n",
       "      <td>07/00435-1236313521.png</td>\n",
       "      <td>((masterpiece)), (best quality), (ultra-detail...</td>\n",
       "      <td>2023-05-07 13:02:05.134293</td>\n",
       "      <td>5</td>\n",
       "      <td>5</td>\n",
       "      <td>13</td>\n",
       "    </tr>\n",
       "    <tr>\n",
       "      <th>1812</th>\n",
       "      <td>07/00436-2159005431.png</td>\n",
       "      <td>Megumin in maid costume</td>\n",
       "      <td>2023-05-07 13:03:45.946393</td>\n",
       "      <td>1</td>\n",
       "      <td>1</td>\n",
       "      <td>4</td>\n",
       "    </tr>\n",
       "    <tr>\n",
       "      <th>1813</th>\n",
       "      <td>07/00437-2159005432.png</td>\n",
       "      <td>Megumin in maid costume</td>\n",
       "      <td>2023-05-07 13:03:46.029656</td>\n",
       "      <td>1</td>\n",
       "      <td>1</td>\n",
       "      <td>4</td>\n",
       "    </tr>\n",
       "  </tbody>\n",
       "</table>\n",
       "<p>1814 rows × 6 columns</p>\n",
       "</div>"
      ],
      "text/plain": [
       "                         name   \n",
       "0     05/00000-3984452859.png  \\\n",
       "1     05/00001-3984452860.png   \n",
       "2     05/00002-3984452861.png   \n",
       "3     05/00003-3984452862.png   \n",
       "4     05/00004-1497326106.png   \n",
       "...                       ...   \n",
       "1809   07/00433-318720306.png   \n",
       "1810  07/00434-1236313520.png   \n",
       "1811  07/00435-1236313521.png   \n",
       "1812  07/00436-2159005431.png   \n",
       "1813  07/00437-2159005432.png   \n",
       "\n",
       "                                                 prompt   \n",
       "0     ((masterpiece)), (best quality), (ultra-detail...  \\\n",
       "1     ((masterpiece)), (best quality), (ultra-detail...   \n",
       "2     ((masterpiece)), (best quality), (ultra-detail...   \n",
       "3     ((masterpiece)), (best quality), (ultra-detail...   \n",
       "4     ((masterpiece)), (best quality), (ultra-detail...   \n",
       "...                                                 ...   \n",
       "1809  ((masterpiece)), (best quality), (ultra-detail...   \n",
       "1810  ((masterpiece)), (best quality), (ultra-detail...   \n",
       "1811  ((masterpiece)), (best quality), (ultra-detail...   \n",
       "1812                            Megumin in maid costume   \n",
       "1813                            Megumin in maid costume   \n",
       "\n",
       "                        created  prompt_len  phrase_len  word_len  \n",
       "0    2023-05-05 11:57:06.230944           6           6        14  \n",
       "1    2023-05-05 11:57:06.311726           6           6        14  \n",
       "2    2023-05-05 11:57:25.190799           6           6        14  \n",
       "3    2023-05-05 11:57:25.265597           6           6        14  \n",
       "4    2023-05-05 12:14:16.942411           6           6        14  \n",
       "...                         ...         ...         ...       ...  \n",
       "1809 2023-05-07 13:01:29.379590          13          13        30  \n",
       "1810 2023-05-07 13:02:05.016395           5           5        13  \n",
       "1811 2023-05-07 13:02:05.134293           5           5        13  \n",
       "1812 2023-05-07 13:03:45.946393           1           1         4  \n",
       "1813 2023-05-07 13:03:46.029656           1           1         4  \n",
       "\n",
       "[1814 rows x 6 columns]"
      ]
     },
     "execution_count": 154,
     "metadata": {},
     "output_type": "execute_result"
    }
   ],
   "source": [
    "df"
   ]
  },
  {
   "cell_type": "code",
   "execution_count": 155,
   "id": "79233dbc-650e-4041-9822-ba6f739e3d89",
   "metadata": {
    "tags": []
   },
   "outputs": [
    {
     "data": {
      "image/png": "[encoded data removed]",
      "text/plain": [
       "<Figure size 1000x500 with 1 Axes>"
      ]
     },
     "metadata": {},
     "output_type": "display_data"
    }
   ],
   "source": [
    "df['phrase_len'].value_counts().sort_index().plot(kind='bar',title='počet frází', figsize=(10, 5))\n",
    "plt.grid()"
   ]
  },
  {
   "cell_type": "code",
   "execution_count": 149,
   "id": "19ea772e-436c-453e-aebf-02851c8a77a0",
   "metadata": {
    "tags": []
   },
   "outputs": [
    {
     "data": {
      "text/html": [
       "<div>\n",
       "<style scoped>\n",
       "    .dataframe tbody tr th:only-of-type {\n",
       "        vertical-align: middle;\n",
       "    }\n",
       "\n",
       "    .dataframe tbody tr th {\n",
       "        vertical-align: top;\n",
       "    }\n",
       "\n",
       "    .dataframe thead th {\n",
       "        text-align: right;\n",
       "    }\n",
       "</style>\n",
       "<table border=\"1\" class=\"dataframe\">\n",
       "  <thead>\n",
       "    <tr style=\"text-align: right;\">\n",
       "      <th></th>\n",
       "      <th>name</th>\n",
       "      <th>prompt</th>\n",
       "      <th>created</th>\n",
       "      <th>prompt_len</th>\n",
       "      <th>phrase_len</th>\n",
       "    </tr>\n",
       "  </thead>\n",
       "  <tbody>\n",
       "    <tr>\n",
       "      <th>8</th>\n",
       "      <td>05/00008-1037996099.png</td>\n",
       "      <td>Photograph of a donkey</td>\n",
       "      <td>2023-05-05 12:17:15.521357</td>\n",
       "      <td>1</td>\n",
       "      <td>4</td>\n",
       "    </tr>\n",
       "    <tr>\n",
       "      <th>9</th>\n",
       "      <td>05/00009-4073198834.png</td>\n",
       "      <td>Photograph of a donkey</td>\n",
       "      <td>2023-05-05 12:18:20.997473</td>\n",
       "      <td>1</td>\n",
       "      <td>4</td>\n",
       "    </tr>\n",
       "    <tr>\n",
       "      <th>22</th>\n",
       "      <td>05/00022-3699371195.png</td>\n",
       "      <td>Photograph of a donkey</td>\n",
       "      <td>2023-05-05 12:30:47.874629</td>\n",
       "      <td>1</td>\n",
       "      <td>4</td>\n",
       "    </tr>\n",
       "    <tr>\n",
       "      <th>31</th>\n",
       "      <td>05/00031-3091251733.png</td>\n",
       "      <td>Photograph of a donkey</td>\n",
       "      <td>2023-05-05 12:35:23.433278</td>\n",
       "      <td>1</td>\n",
       "      <td>4</td>\n",
       "    </tr>\n",
       "    <tr>\n",
       "      <th>32</th>\n",
       "      <td>05/00032-2673056414.png</td>\n",
       "      <td>Photograph of a donkey</td>\n",
       "      <td>2023-05-05 12:35:46.660172</td>\n",
       "      <td>1</td>\n",
       "      <td>4</td>\n",
       "    </tr>\n",
       "    <tr>\n",
       "      <th>...</th>\n",
       "      <td>...</td>\n",
       "      <td>...</td>\n",
       "      <td>...</td>\n",
       "      <td>...</td>\n",
       "      <td>...</td>\n",
       "    </tr>\n",
       "    <tr>\n",
       "      <th>1783</th>\n",
       "      <td>07/00407-836376087.png</td>\n",
       "      <td>me like angel</td>\n",
       "      <td>2023-05-07 12:50:29.414711</td>\n",
       "      <td>1</td>\n",
       "      <td>3</td>\n",
       "    </tr>\n",
       "    <tr>\n",
       "      <th>1784</th>\n",
       "      <td>07/00408-836376088.png</td>\n",
       "      <td>me like angel</td>\n",
       "      <td>2023-05-07 12:50:29.495863</td>\n",
       "      <td>1</td>\n",
       "      <td>3</td>\n",
       "    </tr>\n",
       "    <tr>\n",
       "      <th>1785</th>\n",
       "      <td>07/00409-1087639940.png</td>\n",
       "      <td>Photograph of a donkey</td>\n",
       "      <td>2023-05-07 12:52:07.983054</td>\n",
       "      <td>1</td>\n",
       "      <td>4</td>\n",
       "    </tr>\n",
       "    <tr>\n",
       "      <th>1812</th>\n",
       "      <td>07/00436-2159005431.png</td>\n",
       "      <td>Megumin in maid costume</td>\n",
       "      <td>2023-05-07 13:03:45.946393</td>\n",
       "      <td>1</td>\n",
       "      <td>4</td>\n",
       "    </tr>\n",
       "    <tr>\n",
       "      <th>1813</th>\n",
       "      <td>07/00437-2159005432.png</td>\n",
       "      <td>Megumin in maid costume</td>\n",
       "      <td>2023-05-07 13:03:46.029656</td>\n",
       "      <td>1</td>\n",
       "      <td>4</td>\n",
       "    </tr>\n",
       "  </tbody>\n",
       "</table>\n",
       "<p>730 rows × 5 columns</p>\n",
       "</div>"
      ],
      "text/plain": [
       "                         name                   prompt   \n",
       "8     05/00008-1037996099.png   Photograph of a donkey  \\\n",
       "9     05/00009-4073198834.png   Photograph of a donkey   \n",
       "22    05/00022-3699371195.png   Photograph of a donkey   \n",
       "31    05/00031-3091251733.png   Photograph of a donkey   \n",
       "32    05/00032-2673056414.png   Photograph of a donkey   \n",
       "...                       ...                      ...   \n",
       "1783   07/00407-836376087.png            me like angel   \n",
       "1784   07/00408-836376088.png            me like angel   \n",
       "1785  07/00409-1087639940.png   Photograph of a donkey   \n",
       "1812  07/00436-2159005431.png  Megumin in maid costume   \n",
       "1813  07/00437-2159005432.png  Megumin in maid costume   \n",
       "\n",
       "                        created  prompt_len  phrase_len  \n",
       "8    2023-05-05 12:17:15.521357           1           4  \n",
       "9    2023-05-05 12:18:20.997473           1           4  \n",
       "22   2023-05-05 12:30:47.874629           1           4  \n",
       "31   2023-05-05 12:35:23.433278           1           4  \n",
       "32   2023-05-05 12:35:46.660172           1           4  \n",
       "...                         ...         ...         ...  \n",
       "1783 2023-05-07 12:50:29.414711           1           3  \n",
       "1784 2023-05-07 12:50:29.495863           1           3  \n",
       "1785 2023-05-07 12:52:07.983054           1           4  \n",
       "1812 2023-05-07 13:03:45.946393           1           4  \n",
       "1813 2023-05-07 13:03:46.029656           1           4  \n",
       "\n",
       "[730 rows x 5 columns]"
      ]
     },
     "execution_count": 149,
     "metadata": {},
     "output_type": "execute_result"
    }
   ],
   "source": [
    "df[df['prompt_len'] == 1]"
   ]
  },
  {
   "cell_type": "code",
   "execution_count": 156,
   "id": "29d84536-53ed-4a71-9f23-96bb8c54f38b",
   "metadata": {
    "tags": []
   },
   "outputs": [
    {
     "data": {
      "image/png": "[encoded data removed]",
      "text/plain": [
       "<Figure size 1000x500 with 1 Axes>"
      ]
     },
     "metadata": {},
     "output_type": "display_data"
    }
   ],
   "source": [
    "df['word_len'].value_counts().sort_index().plot(kind='bar',title='počet slov', figsize=(10, 5))\n",
    "plt.grid()"
   ]
  },
  {
   "cell_type": "code",
   "execution_count": 157,
   "id": "cf39b181-9237-4e61-9a3e-6086dea39157",
   "metadata": {
    "tags": []
   },
   "outputs": [
    {
     "data": {
      "text/html": [
       "<div>\n",
       "<style scoped>\n",
       "    .dataframe tbody tr th:only-of-type {\n",
       "        vertical-align: middle;\n",
       "    }\n",
       "\n",
       "    .dataframe tbody tr th {\n",
       "        vertical-align: top;\n",
       "    }\n",
       "\n",
       "    .dataframe thead th {\n",
       "        text-align: right;\n",
       "    }\n",
       "</style>\n",
       "<table border=\"1\" class=\"dataframe\">\n",
       "  <thead>\n",
       "    <tr style=\"text-align: right;\">\n",
       "      <th></th>\n",
       "      <th>name</th>\n",
       "      <th>prompt</th>\n",
       "      <th>created</th>\n",
       "      <th>prompt_len</th>\n",
       "      <th>phrase_len</th>\n",
       "      <th>word_len</th>\n",
       "    </tr>\n",
       "  </thead>\n",
       "  <tbody>\n",
       "    <tr>\n",
       "      <th>44</th>\n",
       "      <td>05/00044-826513304.png</td>\n",
       "      <td>donkey</td>\n",
       "      <td>2023-05-05 13:11:03.156730</td>\n",
       "      <td>1</td>\n",
       "      <td>1</td>\n",
       "      <td>1</td>\n",
       "    </tr>\n",
       "    <tr>\n",
       "      <th>45</th>\n",
       "      <td>05/00045-826513305.png</td>\n",
       "      <td>donkey</td>\n",
       "      <td>2023-05-05 13:11:03.224549</td>\n",
       "      <td>1</td>\n",
       "      <td>1</td>\n",
       "      <td>1</td>\n",
       "    </tr>\n",
       "    <tr>\n",
       "      <th>107</th>\n",
       "      <td>05/00107-641990775.png</td>\n",
       "      <td>monkey</td>\n",
       "      <td>2023-05-05 18:53:41.703878</td>\n",
       "      <td>1</td>\n",
       "      <td>1</td>\n",
       "      <td>1</td>\n",
       "    </tr>\n",
       "    <tr>\n",
       "      <th>108</th>\n",
       "      <td>05/00108-641990776.png</td>\n",
       "      <td>monkey</td>\n",
       "      <td>2023-05-05 18:53:41.801018</td>\n",
       "      <td>1</td>\n",
       "      <td>1</td>\n",
       "      <td>1</td>\n",
       "    </tr>\n",
       "    <tr>\n",
       "      <th>109</th>\n",
       "      <td>05/00109-3341528697.png</td>\n",
       "      <td>totoro</td>\n",
       "      <td>2023-05-05 18:57:21.623872</td>\n",
       "      <td>1</td>\n",
       "      <td>1</td>\n",
       "      <td>1</td>\n",
       "    </tr>\n",
       "    <tr>\n",
       "      <th>...</th>\n",
       "      <td>...</td>\n",
       "      <td>...</td>\n",
       "      <td>...</td>\n",
       "      <td>...</td>\n",
       "      <td>...</td>\n",
       "      <td>...</td>\n",
       "    </tr>\n",
       "    <tr>\n",
       "      <th>1775</th>\n",
       "      <td>07/00399-3655828742.png</td>\n",
       "      <td>Nico-robin</td>\n",
       "      <td>2023-05-07 12:46:49.562100</td>\n",
       "      <td>1</td>\n",
       "      <td>1</td>\n",
       "      <td>1</td>\n",
       "    </tr>\n",
       "    <tr>\n",
       "      <th>1778</th>\n",
       "      <td>07/00402-491179719.png</td>\n",
       "      <td>deku</td>\n",
       "      <td>2023-05-07 12:48:05.214817</td>\n",
       "      <td>1</td>\n",
       "      <td>1</td>\n",
       "      <td>1</td>\n",
       "    </tr>\n",
       "    <tr>\n",
       "      <th>1779</th>\n",
       "      <td>07/00403-491179720.png</td>\n",
       "      <td>deku</td>\n",
       "      <td>2023-05-07 12:48:05.308233</td>\n",
       "      <td>1</td>\n",
       "      <td>1</td>\n",
       "      <td>1</td>\n",
       "    </tr>\n",
       "    <tr>\n",
       "      <th>1780</th>\n",
       "      <td>07/00404-1113024838.png</td>\n",
       "      <td>dickbutt</td>\n",
       "      <td>2023-05-07 12:49:19.846611</td>\n",
       "      <td>1</td>\n",
       "      <td>1</td>\n",
       "      <td>1</td>\n",
       "    </tr>\n",
       "    <tr>\n",
       "      <th>1781</th>\n",
       "      <td>07/00405-1113024839.png</td>\n",
       "      <td>dickbutt</td>\n",
       "      <td>2023-05-07 12:49:19.896730</td>\n",
       "      <td>1</td>\n",
       "      <td>1</td>\n",
       "      <td>1</td>\n",
       "    </tr>\n",
       "  </tbody>\n",
       "</table>\n",
       "<p>68 rows × 6 columns</p>\n",
       "</div>"
      ],
      "text/plain": [
       "                         name      prompt                    created   \n",
       "44     05/00044-826513304.png      donkey 2023-05-05 13:11:03.156730  \\\n",
       "45     05/00045-826513305.png      donkey 2023-05-05 13:11:03.224549   \n",
       "107    05/00107-641990775.png      monkey 2023-05-05 18:53:41.703878   \n",
       "108    05/00108-641990776.png      monkey 2023-05-05 18:53:41.801018   \n",
       "109   05/00109-3341528697.png      totoro 2023-05-05 18:57:21.623872   \n",
       "...                       ...         ...                        ...   \n",
       "1775  07/00399-3655828742.png  Nico-robin 2023-05-07 12:46:49.562100   \n",
       "1778   07/00402-491179719.png        deku 2023-05-07 12:48:05.214817   \n",
       "1779   07/00403-491179720.png        deku 2023-05-07 12:48:05.308233   \n",
       "1780  07/00404-1113024838.png    dickbutt 2023-05-07 12:49:19.846611   \n",
       "1781  07/00405-1113024839.png    dickbutt 2023-05-07 12:49:19.896730   \n",
       "\n",
       "      prompt_len  phrase_len  word_len  \n",
       "44             1           1         1  \n",
       "45             1           1         1  \n",
       "107            1           1         1  \n",
       "108            1           1         1  \n",
       "109            1           1         1  \n",
       "...          ...         ...       ...  \n",
       "1775           1           1         1  \n",
       "1778           1           1         1  \n",
       "1779           1           1         1  \n",
       "1780           1           1         1  \n",
       "1781           1           1         1  \n",
       "\n",
       "[68 rows x 6 columns]"
      ]
     },
     "execution_count": 157,
     "metadata": {},
     "output_type": "execute_result"
    }
   ],
   "source": [
    "df[df['word_len'] == 1]"
   ]
  },
  {
   "cell_type": "code",
   "execution_count": 169,
   "id": "b8375390-d4b7-4f4d-9599-7cc12e33b2b5",
   "metadata": {
    "tags": []
   },
   "outputs": [
    {
     "data": {
      "text/html": [
       "<div>\n",
       "<style scoped>\n",
       "    .dataframe tbody tr th:only-of-type {\n",
       "        vertical-align: middle;\n",
       "    }\n",
       "\n",
       "    .dataframe tbody tr th {\n",
       "        vertical-align: top;\n",
       "    }\n",
       "\n",
       "    .dataframe thead th {\n",
       "        text-align: right;\n",
       "    }\n",
       "</style>\n",
       "<table border=\"1\" class=\"dataframe\">\n",
       "  <thead>\n",
       "    <tr style=\"text-align: right;\">\n",
       "      <th></th>\n",
       "      <th>name</th>\n",
       "      <th>prompt</th>\n",
       "      <th>created</th>\n",
       "      <th>prompt_len</th>\n",
       "      <th>phrase_len</th>\n",
       "      <th>word_len</th>\n",
       "    </tr>\n",
       "  </thead>\n",
       "  <tbody>\n",
       "    <tr>\n",
       "      <th>34</th>\n",
       "      <td>05/00034-3316156632.png</td>\n",
       "      <td>Dystopian, [sci-fi], High Detail RAW color Pho...</td>\n",
       "      <td>2023-05-05 12:41:36.155874</td>\n",
       "      <td>37</td>\n",
       "      <td>37</td>\n",
       "      <td>117</td>\n",
       "    </tr>\n",
       "    <tr>\n",
       "      <th>35</th>\n",
       "      <td>05/00035-3316156633.png</td>\n",
       "      <td>Dystopian, [sci-fi], High Detail RAW color Pho...</td>\n",
       "      <td>2023-05-05 12:41:36.274583</td>\n",
       "      <td>37</td>\n",
       "      <td>37</td>\n",
       "      <td>117</td>\n",
       "    </tr>\n",
       "  </tbody>\n",
       "</table>\n",
       "</div>"
      ],
      "text/plain": [
       "                       name   \n",
       "34  05/00034-3316156632.png  \\\n",
       "35  05/00035-3316156633.png   \n",
       "\n",
       "                                               prompt   \n",
       "34  Dystopian, [sci-fi], High Detail RAW color Pho...  \\\n",
       "35  Dystopian, [sci-fi], High Detail RAW color Pho...   \n",
       "\n",
       "                      created  prompt_len  phrase_len  word_len  \n",
       "34 2023-05-05 12:41:36.155874          37          37       117  \n",
       "35 2023-05-05 12:41:36.274583          37          37       117  "
      ]
     },
     "execution_count": 169,
     "metadata": {},
     "output_type": "execute_result"
    }
   ],
   "source": [
    "df[df['phrase_len'] == df['phrase_len'].max()]"
   ]
  },
  {
   "cell_type": "code",
   "execution_count": 167,
   "id": "5017a429-df5f-4413-b347-dee3944f9881",
   "metadata": {
    "tags": []
   },
   "outputs": [
    {
     "data": {
      "text/plain": [
       "array(['Dystopian, [sci-fi], High Detail RAW color Photo, Full Shot, ((cute female arterial intelligence, wearing see-through white chemise), outdoors, standing, on overlook, looking out at sprawling cyberpunk city skyline), toned physique, (pale skin), (cybernetic implants:1.2), (augmentations), (cyborg:1.1), (detailed skin, diffused skin pores), silicone, metal, (highly detailed, fine details, intricate), (lens flare:0.5)::(bloom:0.5), smog, dust, (badlands:0.8), (observitory:0.7), raytracing, specular lighting, shallow depth of field, photographed on a Canon EOS 5D, 75mm lens, f/2.8, hard focus, smooth, cinematic film still from Blade Runner 2049, [Cyberpunk:Orwelian:45]',\n",
       "       'Dystopian, [sci-fi], High Detail RAW color Photo, Full Shot, ((cute female arterial intelligence, wearing see-through white chemise), outdoors, standing, on overlook, looking out at sprawling cyberpunk city skyline), toned physique, (pale skin), (cybernetic implants:1.2), (augmentations), (cyborg:1.1), (detailed skin, diffused skin pores), silicone, metal, (highly detailed, fine details, intricate), (lens flare:0.5)::(bloom:0.5), smog, dust, (badlands:0.8), (observitory:0.7), raytracing, specular lighting, shallow depth of field, photographed on a Canon EOS 5D, 75mm lens, f/2.8, hard focus, smooth, cinematic film still from Blade Runner 2049, [Cyberpunk:Orwelian:45]'],\n",
       "      dtype=object)"
      ]
     },
     "execution_count": 167,
     "metadata": {},
     "output_type": "execute_result"
    }
   ],
   "source": [
    "df[df['phrase_len'] == df['phrase_len'].max()]['prompt'].to_numpy()"
   ]
  },
  {
   "cell_type": "code",
   "execution_count": 168,
   "id": "a1bb91f5-3104-4232-b334-1d982c732e79",
   "metadata": {
    "tags": []
   },
   "outputs": [
    {
     "data": {
      "text/plain": [
       "array(['Dystopian, [sci-fi], High Detail RAW color Photo, Full Shot, ((cute female arterial intelligence, wearing see-through white chemise), outdoors, standing, on overlook, looking out at sprawling cyberpunk city skyline), toned physique, (pale skin), (cybernetic implants:1.2), (augmentations), (cyborg:1.1), (detailed skin, diffused skin pores), silicone, metal, (highly detailed, fine details, intricate), (lens flare:0.5)::(bloom:0.5), smog, dust, (badlands:0.8), (observitory:0.7), raytracing, specular lighting, shallow depth of field, photographed on a Canon EOS 5D, 75mm lens, f/2.8, hard focus, smooth, cinematic film still from Blade Runner 2049, [Cyberpunk:Orwelian:45]',\n",
       "       'Dystopian, [sci-fi], High Detail RAW color Photo, Full Shot, ((cute female arterial intelligence, wearing see-through white chemise), outdoors, standing, on overlook, looking out at sprawling cyberpunk city skyline), toned physique, (pale skin), (cybernetic implants:1.2), (augmentations), (cyborg:1.1), (detailed skin, diffused skin pores), silicone, metal, (highly detailed, fine details, intricate), (lens flare:0.5)::(bloom:0.5), smog, dust, (badlands:0.8), (observitory:0.7), raytracing, specular lighting, shallow depth of field, photographed on a Canon EOS 5D, 75mm lens, f/2.8, hard focus, smooth, cinematic film still from Blade Runner 2049, [Cyberpunk:Orwelian:45]'],\n",
       "      dtype=object)"
      ]
     },
     "execution_count": 168,
     "metadata": {},
     "output_type": "execute_result"
    }
   ],
   "source": [
    "df[df['word_len'] == df['word_len'].max()]['prompt'].to_numpy()"
   ]
  },
  {
   "cell_type": "code",
   "execution_count": 170,
   "id": "1c0b9945-dee2-4995-862c-77b5873f280b",
   "metadata": {
    "tags": []
   },
   "outputs": [
    {
     "data": {
      "text/html": [
       "<div>\n",
       "<style scoped>\n",
       "    .dataframe tbody tr th:only-of-type {\n",
       "        vertical-align: middle;\n",
       "    }\n",
       "\n",
       "    .dataframe tbody tr th {\n",
       "        vertical-align: top;\n",
       "    }\n",
       "\n",
       "    .dataframe thead th {\n",
       "        text-align: right;\n",
       "    }\n",
       "</style>\n",
       "<table border=\"1\" class=\"dataframe\">\n",
       "  <thead>\n",
       "    <tr style=\"text-align: right;\">\n",
       "      <th></th>\n",
       "      <th>name</th>\n",
       "      <th>prompt</th>\n",
       "      <th>created</th>\n",
       "      <th>prompt_len</th>\n",
       "      <th>phrase_len</th>\n",
       "      <th>word_len</th>\n",
       "    </tr>\n",
       "  </thead>\n",
       "  <tbody>\n",
       "    <tr>\n",
       "      <th>484</th>\n",
       "      <td>06/00277-4137095824.png</td>\n",
       "      <td>((masterpiece)), (best quality), (ultra-detail...</td>\n",
       "      <td>2023-05-06 13:12:49.019672</td>\n",
       "      <td>16</td>\n",
       "      <td>16</td>\n",
       "      <td>41</td>\n",
       "    </tr>\n",
       "    <tr>\n",
       "      <th>485</th>\n",
       "      <td>06/00278-4137095825.png</td>\n",
       "      <td>((masterpiece)), (best quality), (ultra-detail...</td>\n",
       "      <td>2023-05-06 13:12:49.103873</td>\n",
       "      <td>16</td>\n",
       "      <td>16</td>\n",
       "      <td>41</td>\n",
       "    </tr>\n",
       "  </tbody>\n",
       "</table>\n",
       "</div>"
      ],
      "text/plain": [
       "                        name   \n",
       "484  06/00277-4137095824.png  \\\n",
       "485  06/00278-4137095825.png   \n",
       "\n",
       "                                                prompt   \n",
       "484  ((masterpiece)), (best quality), (ultra-detail...  \\\n",
       "485  ((masterpiece)), (best quality), (ultra-detail...   \n",
       "\n",
       "                       created  prompt_len  phrase_len  word_len  \n",
       "484 2023-05-06 13:12:49.019672          16          16        41  \n",
       "485 2023-05-06 13:12:49.103873          16          16        41  "
      ]
     },
     "execution_count": 170,
     "metadata": {},
     "output_type": "execute_result"
    }
   ],
   "source": [
    "df[df['phrase_len'] == 16]"
   ]
  },
  {
   "cell_type": "code",
   "execution_count": 171,
   "id": "9fdd0b5a-bf53-44bd-8aea-c18de84fd235",
   "metadata": {
    "tags": []
   },
   "outputs": [
    {
     "data": {
      "text/plain": [
       "array(['((masterpiece)), (best quality), (ultra-detailed), (best illustration), (best shadow), 1girl, nature, blue sky, fluffy clouds, redhair, blue eyes, white dress, cat ears, full body, sitting, green trees',\n",
       "       '((masterpiece)), (best quality), (ultra-detailed), (best illustration), (best shadow), 1girl, nature, blue sky, fluffy clouds, redhair, blue eyes, white dress, cat ears, full body, sitting, green trees'],\n",
       "      dtype=object)"
      ]
     },
     "execution_count": 171,
     "metadata": {},
     "output_type": "execute_result"
    }
   ],
   "source": [
    "df[df['phrase_len'] == 16]['prompt'].to_numpy()"
   ]
  },
  {
   "cell_type": "code",
   "execution_count": 172,
   "id": "c69d5b58-694b-4c42-bfc4-66563ea2f03f",
   "metadata": {
    "tags": []
   },
   "outputs": [
    {
     "data": {
      "text/html": [
       "<div>\n",
       "<style scoped>\n",
       "    .dataframe tbody tr th:only-of-type {\n",
       "        vertical-align: middle;\n",
       "    }\n",
       "\n",
       "    .dataframe tbody tr th {\n",
       "        vertical-align: top;\n",
       "    }\n",
       "\n",
       "    .dataframe thead th {\n",
       "        text-align: right;\n",
       "    }\n",
       "</style>\n",
       "<table border=\"1\" class=\"dataframe\">\n",
       "  <thead>\n",
       "    <tr style=\"text-align: right;\">\n",
       "      <th></th>\n",
       "      <th>name</th>\n",
       "      <th>prompt</th>\n",
       "      <th>created</th>\n",
       "      <th>prompt_len</th>\n",
       "      <th>phrase_len</th>\n",
       "      <th>word_len</th>\n",
       "    </tr>\n",
       "  </thead>\n",
       "  <tbody>\n",
       "    <tr>\n",
       "      <th>1798</th>\n",
       "      <td>07/00422-183432441.png</td>\n",
       "      <td>L from death note, nice looking, is holding an...</td>\n",
       "      <td>2023-05-07 12:57:25.635709</td>\n",
       "      <td>15</td>\n",
       "      <td>15</td>\n",
       "      <td>51</td>\n",
       "    </tr>\n",
       "    <tr>\n",
       "      <th>1799</th>\n",
       "      <td>07/00423-183432442.png</td>\n",
       "      <td>L from death note, nice looking, is holding an...</td>\n",
       "      <td>2023-05-07 12:57:25.745905</td>\n",
       "      <td>15</td>\n",
       "      <td>15</td>\n",
       "      <td>51</td>\n",
       "    </tr>\n",
       "    <tr>\n",
       "      <th>1800</th>\n",
       "      <td>07/00424-976030173.png</td>\n",
       "      <td>L from death note, nice looking, is holding an...</td>\n",
       "      <td>2023-05-07 12:57:57.369705</td>\n",
       "      <td>15</td>\n",
       "      <td>15</td>\n",
       "      <td>51</td>\n",
       "    </tr>\n",
       "    <tr>\n",
       "      <th>1801</th>\n",
       "      <td>07/00425-976030174.png</td>\n",
       "      <td>L from death note, nice looking, is holding an...</td>\n",
       "      <td>2023-05-07 12:57:57.459907</td>\n",
       "      <td>15</td>\n",
       "      <td>15</td>\n",
       "      <td>51</td>\n",
       "    </tr>\n",
       "  </tbody>\n",
       "</table>\n",
       "</div>"
      ],
      "text/plain": [
       "                        name   \n",
       "1798  07/00422-183432441.png  \\\n",
       "1799  07/00423-183432442.png   \n",
       "1800  07/00424-976030173.png   \n",
       "1801  07/00425-976030174.png   \n",
       "\n",
       "                                                 prompt   \n",
       "1798  L from death note, nice looking, is holding an...  \\\n",
       "1799  L from death note, nice looking, is holding an...   \n",
       "1800  L from death note, nice looking, is holding an...   \n",
       "1801  L from death note, nice looking, is holding an...   \n",
       "\n",
       "                        created  prompt_len  phrase_len  word_len  \n",
       "1798 2023-05-07 12:57:25.635709          15          15        51  \n",
       "1799 2023-05-07 12:57:25.745905          15          15        51  \n",
       "1800 2023-05-07 12:57:57.369705          15          15        51  \n",
       "1801 2023-05-07 12:57:57.459907          15          15        51  "
      ]
     },
     "execution_count": 172,
     "metadata": {},
     "output_type": "execute_result"
    }
   ],
   "source": [
    "df[df['word_len'] == 51]"
   ]
  },
  {
   "cell_type": "code",
   "execution_count": 173,
   "id": "505280b2-5fc2-47cb-97fb-72ac7e38729c",
   "metadata": {
    "tags": []
   },
   "outputs": [
    {
     "data": {
      "text/plain": [
       "array(['L from death note, nice looking, is holding an (((apple in his right hand))), is smiling, (((white hair))),detailed face, 4k, Octane render, artstation, mucha, ultra detail, is wearing a simple white shirt, ((whole body shot)), (((t-shirt))), ',\n",
       "       'L from death note, nice looking, is holding an (((apple in his right hand))), is smiling, (((white hair))),detailed face, 4k, Octane render, artstation, mucha, ultra detail, is wearing a simple white shirt, ((whole body shot)), (((t-shirt))), ',\n",
       "       'L from death note, nice looking, is holding an (((apple in his right hand))), is smiling, (((white hair))),detailed face, 4k, Octane render, artstation, mucha, ultra detail, is wearing a simple white shirt, ((whole body shot)), (((t-shirt))), ',\n",
       "       'L from death note, nice looking, is holding an (((apple in his right hand))), is smiling, (((white hair))),detailed face, 4k, Octane render, artstation, mucha, ultra detail, is wearing a simple white shirt, ((whole body shot)), (((t-shirt))), '],\n",
       "      dtype=object)"
      ]
     },
     "execution_count": 173,
     "metadata": {},
     "output_type": "execute_result"
    }
   ],
   "source": [
    "df[df['word_len'] == 51]['prompt'].to_numpy()"
   ]
  },
  {
   "cell_type": "code",
   "execution_count": 186,
   "id": "c953d121-ae5f-4e51-9251-324d8f726b52",
   "metadata": {
    "tags": []
   },
   "outputs": [
    {
     "data": {
      "text/plain": [
       "prompt\n",
       "((masterpiece))                                                    576\n",
       "(best quality)                                                     514\n",
       "(ultra-detailed)                                                   502\n",
       "(best illustration)                                                468\n",
       "(best shadow)                                                      294\n",
       "1girl                                                              234\n",
       "best quality                                                        98\n",
       "masterpiece                                                         98\n",
       "Photograph of a donkey                                              84\n",
       "(ultra quality)                                                     72\n",
       "(high quality)                                                      70\n",
       "photorealistic                                                      62\n",
       "                                                                    60\n",
       "tall                                                                46\n",
       "medium breast                                                       42\n",
       "best-quality                                                        40\n",
       "((ultra-detailed))                                                  40\n",
       "visible shoulders                                                   38\n",
       "(detail)                                                            34\n",
       "wave pattern on sleeve                                              32\n",
       "purple ombre stockings                                              32\n",
       "(fox girl)                                                          30\n",
       "hair piece                                                          30\n",
       "Catgirl with long tail                                              30\n",
       "green eyes                                                          30\n",
       "full body                                                           30\n",
       "postapocalyptic                                                     30\n",
       "purple kimono with light purple shirt under                         28\n",
       "long purple hair                                                    28\n",
       "1boy                                                                22\n",
       "computer guy                                                        22\n",
       "halucinous                                                          22\n",
       "(masterpiece)                                                       20\n",
       "long purple wavy hair                                               20\n",
       "horns                                                               20\n",
       "trippy                                                              20\n",
       "(bikini)                                                            20\n",
       "psychadelic                                                         20\n",
       "girls und panzers                                                   20\n",
       "black color fur                                                     20\n",
       "adult                                                               20\n",
       "(detailed)                                                          20\n",
       "(detailed face)                                                     18\n",
       "anime                                                               18\n",
       "long hair                                                           18\n",
       "blue eyes                                                           18\n",
       "blue hair                                                           18\n",
       "high quality                                                        18\n",
       "realistic                                                           16\n",
       "((long purple hair)) labcoat white shirt yellow tie black pants     16\n",
       "demon tail                                                          16\n",
       "demon girl                                                          16\n",
       "thigh high                                                          16\n",
       "(kitsune)                                                           16\n",
       "((long purple hair))                                                16\n",
       "megane                                                              16\n",
       "L from death note                                                   16\n",
       "(spice and wolf)                                                    16\n",
       "warrior                                                             16\n",
       "from above                                                          14\n",
       "Name: count, dtype: int64"
      ]
     },
     "execution_count": 186,
     "metadata": {},
     "output_type": "execute_result"
    }
   ],
   "source": [
    "all_prompt_phrases.value_counts()[:60]"
   ]
  },
  {
   "cell_type": "code",
   "execution_count": 187,
   "id": "4f8f84ca-81a0-4b2b-a7b2-04b8aa181cb1",
   "metadata": {
    "tags": []
   },
   "outputs": [
    {
     "data": {
      "text/plain": [
       "prompt\n",
       "                  6398\n",
       "best              1394\n",
       "quality            814\n",
       "masterpiece        774\n",
       "ultra-detailed     544\n",
       "illustration       468\n",
       "hair               390\n",
       "shadow             326\n",
       "long               266\n",
       "in                 262\n",
       "purple             250\n",
       "1girl              244\n",
       "with               232\n",
       "a                  210\n",
       "on                 188\n",
       "girl               188\n",
       "black              186\n",
       "and                156\n",
       "white              150\n",
       "anime              140\n",
       "high               138\n",
       "eyes               136\n",
       "blue               132\n",
       "of                 130\n",
       "red                114\n",
       "kimono             106\n",
       "green              104\n",
       "fox                 94\n",
       "donkey              92\n",
       "the                 90\n",
       "ultra               88\n",
       "Photograph          84\n",
       "from                82\n",
       "photorealistic      80\n",
       "short               74\n",
       "tail                74\n",
       "shirt               72\n",
       "face                68\n",
       "dress               62\n",
       "detailed            60\n",
       "stockings           60\n",
       "light               60\n",
       "yellow              58\n",
       "wolf                58\n",
       "guy                 56\n",
       "tall                54\n",
       "skin                54\n",
       "demon               50\n",
       "looking             48\n",
       "holding             46\n",
       "breast              46\n",
       "brown               46\n",
       "kitsune             44\n",
       "body                44\n",
       "no                  44\n",
       "medium              44\n",
       "smiling             44\n",
       "detail              42\n",
       "pants               42\n",
       "full                42\n",
       "Name: count, dtype: int64"
      ]
     },
     "execution_count": 187,
     "metadata": {},
     "output_type": "execute_result"
    }
   ],
   "source": [
    "all_prompt_words.value_counts()[:60]"
   ]
  },
  {
   "cell_type": "markdown",
   "id": "0114ba9d-97c8-45e8-8d66-b9125b9d5653",
   "metadata": {},
   "source": [
    "# blacklist log"
   ]
  },
  {
   "cell_type": "code",
   "execution_count": 192,
   "id": "5f1b341c-3dac-41cd-bcb0-cc6d6d9aaeab",
   "metadata": {
    "tags": []
   },
   "outputs": [
    {
     "data": {
      "text/plain": [
       "(['2023-05-05 12:17:01,754:INFO:BLACKLIST: ((masterpiece)), (best quality), (ultra-detailed), (best illustration), (best shadow), sex, porn, coitus, naked people',\n",
       "  '2023-05-05 12:18:07,315:INFO:BLACKLIST: ((masterpiece)), (best quality), (ultra-detailed), (best illustration), (best shadow), loli, petite, schoolgirl',\n",
       "  '2023-05-05 12:30:32,935:INFO:BLACKLIST: ((masterpiece)), (best quality), (ultra-detailed), (best illustration), (best shadow), girl, kimono,  violet, animefest, mascot',\n",
       "  '2023-05-05 12:35:10,029:INFO:BLACKLIST: Dystopian, [sci-fi], High Detail RAW color Photo, Full Shot, ((cute female arterial intelligence, wearing see-through white chemise), outdoors, standing, on overlook, looking out at sprawling cyberpunk city skyline), toned physique, large ass, (pale skin), (cybernetic implants:1.2), (augmentations), (cyborg:1.1), (detailed skin, diffused skin pores), silicone, metal, (highly detailed, fine details, intricate), (lens flare:0.5)::(bloom:0.5), smog, dust, (badlands:0.8), (observitory:0.7), raytracing, specular lighting, shallow depth of field, photographed on a Canon EOS 5D, 75mm lens, f/2.8, hard focus, smooth, cinematic film still from Blade Runner 2049, [Cyberpunk:Orwelian:45]',\n",
       "  ''],\n",
       " 209)"
      ]
     },
     "execution_count": 192,
     "metadata": {},
     "output_type": "execute_result"
    }
   ],
   "source": [
    "with open(r'C:\\Projects\\others\\stable diff AF\\stable-diffusion-webui-AF\\Defender.log', 'r', encoding='ansi') as f:\n",
    "    blacklist_logs = f.read().split('\\n')\n",
    "blacklist_logs[:5], len(blacklist_logs)"
   ]
  },
  {
   "cell_type": "code",
   "execution_count": 205,
   "id": "453fc594-e61a-4047-a547-b0e05fa3d2cf",
   "metadata": {
    "collapsed": true,
    "jupyter": {
     "outputs_hidden": true
    },
    "tags": []
   },
   "outputs": [
    {
     "data": {
      "text/plain": [
       "['see-through',\n",
       " 'love',\n",
       " 'feet',\n",
       " 'furry',\n",
       " 'fur',\n",
       " 'uke',\n",
       " 'love',\n",
       " 'penis',\n",
       " 'anus',\n",
       " 'anus',\n",
       " 'pregnant',\n",
       " 'sex',\n",
       " 'hetero',\n",
       " 'futa',\n",
       " 'ass',\n",
       " 'ass',\n",
       " 'veil',\n",
       " 'ass',\n",
       " 'ass',\n",
       " 'ass',\n",
       " 'ass',\n",
       " 'ass',\n",
       " 'tits',\n",
       " 'breasts',\n",
       " 'boob',\n",
       " 'boob',\n",
       " 'boob',\n",
       " 'sex',\n",
       " 'shirtless',\n",
       " 'shirtless',\n",
       " 'shirtless',\n",
       " 'shirtless',\n",
       " 'sex',\n",
       " 'ass',\n",
       " 'ass',\n",
       " 'ass',\n",
       " 'ass',\n",
       " 'ass',\n",
       " 'ass',\n",
       " 'furry',\n",
       " 'fur',\n",
       " 'furry',\n",
       " 'fur',\n",
       " 'yaoi',\n",
       " 'yaoi',\n",
       " 'love',\n",
       " 'yaoi',\n",
       " 'yaoi',\n",
       " 'yaoi',\n",
       " 'love',\n",
       " 'ass',\n",
       " 'ass',\n",
       " 'gay',\n",
       " 'yaoi',\n",
       " 'fur',\n",
       " 'ass',\n",
       " 'ass',\n",
       " 'ass',\n",
       " 'ass',\n",
       " 'love',\n",
       " 'love',\n",
       " 'love',\n",
       " 'fur',\n",
       " ' ass',\n",
       " ' ass',\n",
       " ',ass',\n",
       " '[ass',\n",
       " 'love',\n",
       " 'love',\n",
       " 'love',\n",
       " 'tits',\n",
       " 'sex',\n",
       " 'ass ',\n",
       " 'ass ',\n",
       " 'ass ',\n",
       " 'ass ',\n",
       " 'gay',\n",
       " 'love',\n",
       " 'furry',\n",
       " 'nude',\n",
       " 'nude',\n",
       " 'nude',\n",
       " 'trans',\n",
       " 'trans',\n",
       " 'trans',\n",
       " 'gay',\n",
       " 'sex']"
      ]
     },
     "execution_count": 205,
     "metadata": {},
     "output_type": "execute_result"
    }
   ],
   "source": [
    "hit_words = [re.sub(r'[\\d\\w\\- :,]+BLACKLIST WORD HIT: ', '', i) for i in blacklist_logs if 'BLACKLIST WORD HIT: ' in i]\n",
    "hit_words"
   ]
  },
  {
   "cell_type": "code",
   "execution_count": 208,
   "id": "ad7137e6-62f2-4a8c-9a41-ce8f1dc33c97",
   "metadata": {
    "tags": []
   },
   "outputs": [
    {
     "data": {
      "text/plain": [
       "ass            19\n",
       "love           11\n",
       "yaoi            6\n",
       "fur             5\n",
       "sex             5\n",
       "furry           4\n",
       "ass             4\n",
       "shirtless       4\n",
       "trans           3\n",
       "gay             3\n",
       "boob            3\n",
       "nude            3\n",
       " ass            2\n",
       "anus            2\n",
       "tits            2\n",
       "[ass            1\n",
       ",ass            1\n",
       "see-through     1\n",
       "breasts         1\n",
       "futa            1\n",
       "hetero          1\n",
       "pregnant        1\n",
       "penis           1\n",
       "uke             1\n",
       "feet            1\n",
       "veil            1\n",
       "Name: count, dtype: int64"
      ]
     },
     "execution_count": 208,
     "metadata": {},
     "output_type": "execute_result"
    }
   ],
   "source": [
    "bl_words = pd.Series(hit_words)\n",
    "bl_words.value_counts()"
   ]
  },
  {
   "cell_type": "code",
   "execution_count": 206,
   "id": "1b507cfb-7903-4385-a405-06448fc241cf",
   "metadata": {
    "tags": []
   },
   "outputs": [
    {
     "data": {
      "text/plain": [
       "['((masterpiece)), (best quality), (ultra-detailed), (best illustration), (best shadow), sex, porn, coitus, naked people',\n",
       " '((masterpiece)), (best quality), (ultra-detailed), (best illustration), (best shadow), loli, petite, schoolgirl',\n",
       " '((masterpiece)), (best quality), (ultra-detailed), (best illustration), (best shadow), girl, kimono,  violet, animefest, mascot',\n",
       " 'Dystopian, [sci-fi], High Detail RAW color Photo, Full Shot, ((cute female arterial intelligence, wearing see-through white chemise), outdoors, standing, on overlook, looking out at sprawling cyberpunk city skyline), toned physique, large ass, (pale skin), (cybernetic implants:1.2), (augmentations), (cyborg:1.1), (detailed skin, diffused skin pores), silicone, metal, (highly detailed, fine details, intricate), (lens flare:0.5)::(bloom:0.5), smog, dust, (badlands:0.8), (observitory:0.7), raytracing, specular lighting, shallow depth of field, photographed on a Canon EOS 5D, 75mm lens, f/2.8, hard focus, smooth, cinematic film still from Blade Runner 2049, [Cyberpunk:Orwelian:45]',\n",
       " 'Dystopian, [sci-fi], High Detail RAW color Photo, Full Shot, ((cute female arterial intelligence, wearing see-through white chemise), outdoors, standing, on overlook, looking out at sprawling cyberpunk city skyline), toned physique, (pale skin), (cybernetic implants:1.2), (augmentations), (cyborg:1.1), (detailed skin, diffused skin pores), silicone, metal, (highly detailed, fine details, intricate), (lens flare:0.5)::(bloom:0.5), smog, dust, (badlands:0.8), (observitory:0.7), raytracing, specular lighting, shallow depth of field, photographed on a Canon EOS 5D, 75mm lens, f/2.8, hard focus, smooth, cinematic film still from Blade Runner 2049, [Cyberpunk:Orwelian:45]',\n",
       " 'Dystopian, [sci-fi], High Detail RAW color Photo, Full Shot, ((cute female arterial intelligence, wearing see-through white chemise), outdoors, standing, on overlook, looking out at sprawling cyberpunk city skyline), toned physique, (pale skin), (cybernetic implants:1.2), (augmentations), (cyborg:1.1), (detailed skin, diffused skin pores), silicone, metal, (highly detailed, fine details, intricate), (lens flare:0.5)::(bloom:0.5), smog, dust, (badlands:0.8), (observitory:0.7), raytracing, specular lighting, shallow depth of field, photographed on a Canon EOS 5D, 75mm lens, f/2.8, hard focus, smooth, cinematic film still from Blade Runner 2049, [Cyberpunk:Orwelian:45]',\n",
       " '((masterpiece)), (best quality), (ultra-detailed), (best illustration), (best shadow), one piece, anime,  luffy and nami love story',\n",
       " '((masterpiece)), (best quality), (ultra-detailed), (best illustration), (best shadow), girl, blue hair, red ribbon, twintails, hatsune miku, feet',\n",
       " 'young, male, dark skin, ocean, bald, otaku, furry, cactus',\n",
       " 'sasuke love orochimaru',\n",
       " 'smiling penis with hat',\n",
       " '((masterpiece)), (best quality), (ultra-detailed), (best illustration), (best shadow), crocodile, anus',\n",
       " '((masterpiece)), (best quality), (ultra-detailed), (best illustration), (best shadow), crocodile, anus',\n",
       " '((masterpiece)), (best quality), (ultra-detailed), (best illustration), (best shadow), minion from dispicable me, pregnant, kitchen, ',\n",
       " 'sexy girl, ((czech)), ((masterpiece)), ((ultra-detailed)), best-quality, photorealistic',\n",
       " 'redhead girl with freckels, postapocalyptic, heterochromia, ((masterpiece)), ((ultra-detailed)), best-quality, photorealistic',\n",
       " 'female futa centaur',\n",
       " 'woman, NEET uniform, holding assaul rifle',\n",
       " 'woman, NEET uniform, holding assault rifle',\n",
       " 'rx-7 veilside body kit',\n",
       " '(high quality), ((masterpiece)), geek, warrior, 1man, glasses, beard',\n",
       " '(high quality), ((masterpiece)), geek, warrior, 1man, glasses, beard, human',\n",
       " 'Yuri Ayato, standing, pink hair, black sunglasses, cute, walking',\n",
       " 'ass',\n",
       " 'massive tits mommy',\n",
       " 'masterpiece best quality anime girl big breasts beautiful mommy',\n",
       " 'girl with big boobs at the beach in the swimsuit',\n",
       " 'girl with big boobs',\n",
       " 'anime girl with big boobs',\n",
       " 'lingerie sexy dark skin high heels',\n",
       " 'anime guy shirtless muscular katana in hand (masterpiece) (photorealistic)',\n",
       " 'anime guy, shirtless, muscular, katana in hand (masterpiece) (photorealistic)',\n",
       " 'anime guy, shirtless, muscular, katana in hand (masterpiece)',\n",
       " 'anime, guy, shirtless, muscular, katana in hand, (masterpiece)',\n",
       " 'anime boy muscular demon power sexy best quality ultra hd',\n",
       " 'assault rifle with a double barrel and a optical thingy',\n",
       " 'assault crayon',\n",
       " 'senko_(sewayaki_kitsune_no_senko_san) sunglasses war',\n",
       " 'latvia, soryu asuka langley, sitting, sunglasses, cool, kuldiga',\n",
       " 'donkey, sunglasses',\n",
       " \"it's whoop-ass time\",\n",
       " 'furry',\n",
       " 'furry fox with wolf hugging',\n",
       " 'arataki itto and gorou yaoi',\n",
       " 'arataki itto and gorou yaoi',\n",
       " 'arataki itto and gorou boy love',\n",
       " 'yaoi',\n",
       " ' naked ¨',\n",
       " ' naked yaoi',\n",
       " 'boy love',\n",
       " 'anime girl with long purple hair white lab coat, round glasses, light blue headband',\n",
       " 'anime girl with long purple hair white lab coat round glasses ',\n",
       " 'amogus gay couple',\n",
       " 'among us yaoi couple',\n",
       " 'best quality, masterpiece, medium breast, tall, purple kimono with light purple shirt under and visible shouldres, long purple hair, purple ombre stockings, fur ',\n",
       " '((masterpiece)), (best quality), (ultra-detailed), (best illustration), 1girl, ((long purple hair)) round glasses lab coat white shirt yellow tie black pants ',\n",
       " '((masterpiece)), (best quality), (ultra-detailed), (best illustration), 1girl, ((long purple hair)) labcoat white shirt yellow tie black pants round glasses',\n",
       " '((masterpiece)), (best quality), (ultra-detailed), (best illustration), 1girl, ((long purple hair)) labcoat white shirt yellow tie black pants circle glasses',\n",
       " '((masterpiece)), (best quality), (ultra-detailed), (best illustration), 1girl, ((long purple hair)) labcoat white shirt yellow tie black pants roundglasses',\n",
       " '((masterpiece)), (best quality), (ultra-detailed), (best illustration), 1girl, ((medium jet black hair)), white berret with ribbon, casual white dress, black iris, cross shaped pupil, bangs, white gloves ',\n",
       " '((masterpiece)), (best quality), (ultra-detailed), (best illustration), 1girl, ((medium jet black hair)), white berret with ribbon, casual white dress, black iris, cross shaped pupil, white gloves ',\n",
       " '((masterpiece)), (best quality), (ultra-detailed), (best illustration), 1girl, ((medium jet black hair)), white berret with ribbon, casual white dress, black iris, white gloves ',\n",
       " '((masterpiece)), (best quality), (ultra-detailed), (fox girl), (wheat color of fur)',\n",
       " '((masterpiece)), (best quality), (ultra-detailed), (best illustration), (best shadow), ass',\n",
       " '((masterpiece)), (best quality), (ultra-detailed), (best illustration), (best shadow),ass',\n",
       " '((masterpiece)), (best quality), (ultra-detailed), (best illustration), (best shadow),[ass',\n",
       " '((masterpiece)), (best quality), (ultra-detailed), (best illustration), osaka shizuku, blue hair, smile, microphone, love live',\n",
       " '((masterpiece)), (best quality), (ultra-detailed), (best illustration), osaka shizuku, blue hair, smile, microphone, love live',\n",
       " '((masterpiece)), (best quality), (ultra-detailed), (best illustration), osaka shizuku, blue hair, smile, microphone, love live, anime',\n",
       " 'big mommy, big tits, milkers',\n",
       " 'Sexy catgirl with long tail, white color fur, black dress and green eyes jumping in the air',\n",
       " 'Hue derelict space ship with blast holes and biomass grow',\n",
       " 'Huge derelict space ship with blast holes and biomass grow',\n",
       " 'Gay couple',\n",
       " 'two girls in love',\n",
       " 'furrys go in outing brno',\n",
       " 'nude girl animefest',\n",
       " ' nude girl swiming sea and duck',\n",
       " 'nude girrl',\n",
       " '((masterpiece)), best quality, quality shadow, 1girl, from above, lying on back, long dark hair, in ((see-through)) transparent underwear, (((covered in viscous milk))), covered in goo, bare skin',\n",
       " '((masterpiece)), best quality, quality shadow, 1girl, from above, lying on back, long dark hair, in ((see-through)) transparent underwear, (((covered in viscous milk))), covered in goo, full body',\n",
       " '((masterpiece)), best quality, quality shadow, 1girl, from above, lying on back, long dark hair, in ((see-through)) transparent underwear, (((covered in viscous milk))), covered in goo',\n",
       " 'long gay with green hair',\n",
       " 'L from death note crying and eating his morning meal, nice, good looking male, hot, sexy guy,']"
      ]
     },
     "execution_count": 206,
     "metadata": {},
     "output_type": "execute_result"
    }
   ],
   "source": [
    "hit_prompts = [re.sub(r'[\\d\\w\\- :,]+BLACKLIST: ', '', i) for i in blacklist_logs if 'BLACKLIST: ' in i]\n",
    "hit_prompts"
   ]
  },
  {
   "cell_type": "code",
   "execution_count": null,
   "id": "72924619-a46c-4593-8703-5b5a12b19448",
   "metadata": {},
   "outputs": [],
   "source": []
  }
 ],
 "metadata": {
  "kernelspec": {
   "display_name": "Python 3 (ipykernel)",
   "language": "python",
   "name": "python3"
  },
  "language_info": {
   "codemirror_mode": {
    "name": "ipython",
    "version": 3
   },
   "file_extension": ".py",
   "mimetype": "text/x-python",
   "name": "python",
   "nbconvert_exporter": "python",
   "pygments_lexer": "ipython3",
   "version": "3.10.6"
  }
 },
 "nbformat": 4,
 "nbformat_minor": 5
}
